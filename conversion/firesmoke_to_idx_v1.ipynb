{
 "cells": [
  {
   "cell_type": "markdown",
   "id": "1ca8ac1b-4eaa-478a-ad7e-1364e6c1791e",
   "metadata": {},
   "source": [
    "# Firesmoke Data Conversion to IDX using OpenVisus"
   ]
  },
  {
   "cell_type": "markdown",
   "id": "1b6f4506-47b9-452e-908e-15e532e1b801",
   "metadata": {},
   "source": [
    "## Import necessary libraries, install them if you do not have them. This was developed in Python 3.9"
   ]
  },
  {
   "cell_type": "code",
   "execution_count": null,
   "id": "f499004e-bebd-4abf-8885-f16ce6ad9531",
   "metadata": {
    "tags": []
   },
   "outputs": [],
   "source": [
    "# Used to read/manipulate netCDF data\n",
    "import xarray as xr\n",
    "\n",
    "# Used to convert to .idx\n",
    "from OpenVisus import *\n",
    "\n",
    "# Used for numerical work\n",
    "import numpy as np\n",
    "\n",
    "# Used for processing netCDF time data\n",
    "import datetime\n",
    "\n",
    "# Used for interacting with OS file system (to get directory file names)\n",
    "import os\n",
    "\n",
    "# # Used for redownloading netCDF files from https://firesmoke.ca/ if opening currently downloaded file fails\n",
    "# import wget\n",
    "\n",
    "# Accessory, used to generate progress bar for running for loops\n",
    "# from tqdm.notebook import tqdm\n",
    "# import ipywidgets\n",
    "# import jupyterlab_widgets\n",
    "from tqdm import tqdm"
   ]
  },
  {
   "cell_type": "markdown",
   "id": "cce3169e-d1dd-4050-811a-6fd661442c81",
   "metadata": {},
   "source": [
    "## Get relevant directory paths and file information"
   ]
  },
  {
   "cell_type": "code",
   "execution_count": null,
   "id": "6b0c7861-34fb-464b-95b1-4a1aa4a8ba21",
   "metadata": {},
   "outputs": [],
   "source": [
    "# ******* THIS IS WHEN RUNNING FROM ATLANTIS.SCI **************\n",
    "# directory to all firesmoke data, mounted on my personal machine, change accordingly\n",
    "firesmoke_dir = \"/usr/sci/cedmav/data/firesmoke\"\n",
    "\n",
    "# path to save idx file and data\n",
    "idx_dir = \"/usr/sci/scratch_nvme/arleth/idx/firesmoke2d\""
   ]
  },
  {
   "cell_type": "code",
   "execution_count": null,
   "id": "092f38b1-5202-40bf-a41d-ac113b47ffa9",
   "metadata": {
    "tags": []
   },
   "outputs": [],
   "source": [
    "# # ******* THIS IS WHEN RUNNING FROM MY MACBOOK **************\n",
    "# # directory to all firesmoke data, mounted on my personal machine, change accordingly\n",
    "# firesmoke_dir = \"/Users/arleth/Mount/firesmoke\"\n",
    "\n",
    "# # path to save idx file and data\n",
    "# idx_dir = \"/Users/arleth/Mount/idx/firesmoke2d\""
   ]
  },
  {
   "cell_type": "code",
   "execution_count": null,
   "id": "55d88f90-0370-481c-93be-e3c1e1a10ca1",
   "metadata": {},
   "outputs": [],
   "source": [
    "# init times are only necessary if opening file below fails and need to redownload\n",
    "init_time = \"08\"\n",
    "\n",
    "# directory name for each dataset\n",
    "dataset_name = \"BSC00CA12-01\"\n",
    "\n",
    "dataset_dir = firesmoke_dir + \"/\" + dataset_name\n",
    "idx_dir = idx_dir + \"/\" + dataset_name"
   ]
  },
  {
   "cell_type": "markdown",
   "id": "32528eee-cd60-44f6-9e14-cae79c5ce478",
   "metadata": {},
   "source": [
    "## Count number of files there are per firesmoke directory and max dimensionality per directory"
   ]
  },
  {
   "cell_type": "code",
   "execution_count": null,
   "id": "9c92053f-9e91-4e6d-b46b-a9efa04c6d58",
   "metadata": {
    "scrolled": true
   },
   "outputs": [],
   "source": [
    "# list of all files that are available from UBC\n",
    "successful_files = []\n",
    "\n",
    "# get list of file names for BSC00CA12-01 dataset\n",
    "file_names = os.listdir(dataset_dir)\n",
    "\n",
    "# try opening each file\n",
    "for file in tqdm(file_names):\n",
    "    # get file's path\n",
    "    path = dataset_dir + \"/\" + file\n",
    "    \n",
    "    # keep track of which files successfully open\n",
    "    try:\n",
    "        # open the dataset\n",
    "        f = xr.open_dataset(path)\n",
    "\n",
    "        # append file name to successful_files\n",
    "        successful_files.append(file)\n",
    "    except:\n",
    "        continue"
   ]
  },
  {
   "cell_type": "code",
   "execution_count": null,
   "id": "6fba2c72-e070-4b77-8060-f004bceb779b",
   "metadata": {},
   "outputs": [],
   "source": [
    "np.shape(successful_files)"
   ]
  },
  {
   "cell_type": "markdown",
   "id": "70bd9ca5-ca24-4f90-afc5-b61d0c3b97e3",
   "metadata": {},
   "source": [
    "## Do conversion from netCDF files to IDX"
   ]
  },
  {
   "cell_type": "code",
   "execution_count": null,
   "id": "a96e63f9-b881-488b-a7cb-bfa7ccf9872e",
   "metadata": {
    "scrolled": true
   },
   "outputs": [],
   "source": [
    "# Create idx file of i'th dataset\n",
    "# useful for dealing with fields that are not all the same size:\n",
    "# https://github.com/sci-visus/OpenVisus/blob/master/Samples/jupyter/nasa_conversion_example.ipynb\n",
    "# for each dataset\n",
    "for i, dir in tqdm(enumerate(dataset_dirs)):\n",
    "    # get the dimensions for i'th dataset\n",
    "    curr_dims = dataset_dims[i]\n",
    "    \n",
    "    print(\"creatingING field!\")    \n",
    "    # create OpenVisus field for the PM25 data's *variables*\n",
    "    # ****** This probably means the 'preprocessing' that we did of the data was no use, since it won't be converted as well? *******\n",
    "    f = Field('PM25', 'float32')\n",
    "    \n",
    "    print(\"created field!\")\n",
    "    print(f\"idx path is {idx_dirs[i] + '/' + ids[i] + '.idx'}\")\n",
    "    \n",
    "    # create the idx file for this dataset, it is 2D and time steps is number of files * 24 (total number of hours)\n",
    "    # note: dims must \n",
    "    db = CreateIdx(url=idx_dirs[i] + '/' + ids[i] + '.idx', fields=[f], \n",
    "                   dims=[int(curr_dims[5]), int(curr_dims[4])], time=[0, dataset_files_count[i] * 24, '%00000000d/'])\n",
    "\n",
    "    print(\"created empty idx!\")\n",
    "    \n",
    "    # get list of file names for dataset at dir\n",
    "    print(f\"getting files at {dir}\")\n",
    "    file_names = os.listdir(dir)\n",
    "    file_names = file_names\n",
    "    \n",
    "    # to track what timestep we are on in idx\n",
    "    tstep = 0\n",
    "    \n",
    "    # for all netcdf files we downloaded for i'th dataset\n",
    "    for j, file in tqdm(enumerate(np.sort(file_names))):\n",
    "        # get file's path\n",
    "        path = dir + \"/\" + file\n",
    "    \n",
    "        open_failed = 0\n",
    "        \n",
    "        # if file opening file with xarray fails, skip the file\n",
    "        try:\n",
    "            # open the dataset's files\n",
    "            ds = xr.open_dataset(path)\n",
    "        except:\n",
    "            open_failed = 1\n",
    "            # print(\"open FAILED\")\n",
    "        \n",
    "        if not open_failed:\n",
    "            # For all 24 hours in current file, a full day is time slices 15 through 15+23\n",
    "            for h in np.arange(15, 15+24):\n",
    "                # current idx timestep:\n",
    "                t = tstep\n",
    "                \n",
    "                # Get the PM25 values, squeeze out empty axis\n",
    "                file_vals = (np.squeeze(ds['PM25'].values))\n",
    "                \n",
    "                # Get h'th hour of data, a 2D slice\n",
    "                tstep_hour_vals = file_vals[h]\n",
    "\n",
    "                print(f'np.shape(tstep_hour_vals) = {tstep_hour_vals}')\n",
    "        \n",
    "                # Write values at hour h to timestep t and field f\n",
    "                db.write(data=tstep_hour_vals,field=f,time=t)\n",
    "        \n",
    "                # move to next timestep in IDX\n",
    "                tstep = tstep + 1\n",
    "                "
   ]
  },
  {
   "cell_type": "code",
   "execution_count": null,
   "id": "58804c02-ca99-4180-9302-3aaea19993e2",
   "metadata": {},
   "outputs": [],
   "source": [
    "dataset_dirs"
   ]
  },
  {
   "cell_type": "code",
   "execution_count": null,
   "id": "8aa2d2af-ad06-451f-ae01-299b249da54b",
   "metadata": {},
   "outputs": [],
   "source": [
    "dataset_files_count"
   ]
  },
  {
   "cell_type": "code",
   "execution_count": null,
   "id": "8b908337-8454-4f24-9cec-4325ad74f2f5",
   "metadata": {},
   "outputs": [],
   "source": [
    "# change directory to directory to hold idx data\n",
    "os.chdir('/Users/arleth/Mount/idx/firesmoke2d/BSC00CA12-01')"
   ]
  },
  {
   "cell_type": "code",
   "execution_count": null,
   "id": "8d3af4da-d469-44b9-9c90-20216304c654",
   "metadata": {},
   "outputs": [],
   "source": [
    "db.compressDataset(['zip'])"
   ]
  }
 ],
 "metadata": {
  "kernelspec": {
   "display_name": "Python 3 (ipykernel)",
   "language": "python",
   "name": "python3"
  },
  "language_info": {
   "codemirror_mode": {
    "name": "ipython",
    "version": 3
   },
   "file_extension": ".py",
   "mimetype": "text/x-python",
   "name": "python",
   "nbconvert_exporter": "python",
   "pygments_lexer": "ipython3",
   "version": "3.9.19"
  }
 },
 "nbformat": 4,
 "nbformat_minor": 5
}
