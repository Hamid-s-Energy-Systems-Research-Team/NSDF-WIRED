{
 "cells": [
  {
   "cell_type": "markdown",
   "id": "22a04a99-de42-4253-9ea9-ad7064da9e36",
   "metadata": {},
   "source": [
    "# scribbles\n",
    "here is a scratchpad for code that isn't quite ready to stand alone in the directories or in it's own script..."
   ]
  },
  {
   "cell_type": "code",
   "execution_count": 1,
   "id": "e296f9f5-25ea-4ac8-be79-baf0e5eadb86",
   "metadata": {},
   "outputs": [],
   "source": [
    "# Used to read/manipulate netCDF data\n",
    "import xarray as xr\n",
    "\n",
    "# Used to convert to .idx\n",
    "from OpenVisus import *\n",
    "\n",
    "# Used for numerical work\n",
    "import numpy as np\n",
    "\n",
    "# Used for processing netCDF time data\n",
    "import datetime\n",
    "\n",
    "# Used for interacting with OS file system (to get directory file names)\n",
    "import os\n",
    "\n",
    "# # Used for redownloading netCDF files from https://firesmoke.ca/ if opening currently downloaded file fails\n",
    "# import wget\n",
    "\n",
    "# Accessory, used to generate progress bar for running for loops\n",
    "from tqdm.notebook import tqdm"
   ]
  },
  {
   "cell_type": "code",
   "execution_count": 2,
   "id": "4212e7be-87ac-4de8-be0c-ea3fc6174944",
   "metadata": {},
   "outputs": [],
   "source": [
    "# firesmoke_dir = \"/Users/arleth/Mount/firesmoke\"\n",
    "firesmoke_dir = \"/usr/sci/cedmav/data/firesmoke\"\n",
    "\n",
    "ids = [\"BSC18CA12-01\", \"BSC00CA12-01\", \"BSC06CA12-01\", \"BSC12CA12-01\"]"
   ]
  },
  {
   "cell_type": "code",
   "execution_count": 3,
   "id": "eb382cf7-3b3d-4ac7-acb8-fa58863ca889",
   "metadata": {},
   "outputs": [],
   "source": [
    "# for parsing time flags (TFLAG) from netcdf files\n",
    "def parse_tflag(tflag):\n",
    "    year = int(tflag[0] // 1000)\n",
    "    day_of_year = int(tflag[0] % 1000)\n",
    "    date = datetime.datetime(year, 1, 1) + datetime.timedelta(days=day_of_year - 1)\n",
    "\n",
    "    time_in_day = int(tflag[1])\n",
    "    hours = time_in_day // 10000\n",
    "    minutes = (time_in_day % 10000) // 100\n",
    "    seconds = time_in_day % 100\n",
    "\n",
    "    full_datetime = datetime.datetime(year, date.month, date.day, hours, minutes, seconds)\n",
    "    return full_datetime"
   ]
  },
  {
   "cell_type": "code",
   "execution_count": 4,
   "id": "02925c56-3527-45e2-90f5-e284ab23a0af",
   "metadata": {},
   "outputs": [],
   "source": [
    "file18 = f'{firesmoke_dir}/{ids[0]}/dispersion_20210304.nc'\n",
    "file00 = f'{firesmoke_dir}/{ids[1]}/dispersion_20210304.nc'\n",
    "file06 = f'{firesmoke_dir}/{ids[2]}/dispersion_20210304.nc'\n",
    "file12 = f'{firesmoke_dir}/{ids[3]}/dispersion_20210304.nc'\n",
    "\n",
    "file_mine = f'{firesmoke_dir}/{ids[1]}/dispersion_20240209.nc'"
   ]
  },
  {
   "cell_type": "code",
   "execution_count": 5,
   "id": "c6707a23-b1b3-4fe0-bc75-37ed26f188d3",
   "metadata": {},
   "outputs": [],
   "source": [
    "ds00 = xr.open_dataset(file00)\n",
    "ds06 = xr.open_dataset(file06)\n",
    "ds12 = xr.open_dataset(file12)\n",
    "ds18 = xr.open_dataset(file18)\n",
    "\n",
    "ds_mine = xr.open_dataset(file_mine)"
   ]
  },
  {
   "cell_type": "code",
   "execution_count": 6,
   "id": "1a205154-e09c-4303-ad6e-b7b1c8a057e4",
   "metadata": {},
   "outputs": [
    {
     "data": {
      "text/plain": [
       "['2021-03-04 03:00:00',\n",
       " '2021-03-04 04:00:00',\n",
       " '2021-03-04 05:00:00',\n",
       " '2021-03-04 06:00:00',\n",
       " '2021-03-04 07:00:00',\n",
       " '2021-03-04 08:00:00']"
      ]
     },
     "execution_count": 6,
     "metadata": {},
     "output_type": "execute_result"
    }
   ],
   "source": [
    "time18 = [parse_tflag(t).strftime(\"%Y-%m-%d %H:%M:%S\") for t in np.squeeze(ds18['TFLAG'].values)]\n",
    "time18[0:6]"
   ]
  },
  {
   "cell_type": "code",
   "execution_count": 7,
   "id": "03045438-b240-4830-b76c-f109ed343c8b",
   "metadata": {},
   "outputs": [
    {
     "data": {
      "text/plain": [
       "['2021-03-04 09:00:00',\n",
       " '2021-03-04 10:00:00',\n",
       " '2021-03-04 11:00:00',\n",
       " '2021-03-04 12:00:00',\n",
       " '2021-03-04 13:00:00',\n",
       " '2021-03-04 14:00:00']"
      ]
     },
     "execution_count": 7,
     "metadata": {},
     "output_type": "execute_result"
    }
   ],
   "source": [
    "time00 = [parse_tflag(t).strftime(\"%Y-%m-%d %H:%M:%S\") for t in np.squeeze(ds00['TFLAG'].values)]\n",
    "time00[0:6]"
   ]
  },
  {
   "cell_type": "code",
   "execution_count": 8,
   "id": "ad102e6b-7891-4dac-a023-f698949c13c8",
   "metadata": {},
   "outputs": [
    {
     "data": {
      "text/plain": [
       "['2021-03-04 15:00:00',\n",
       " '2021-03-04 16:00:00',\n",
       " '2021-03-04 17:00:00',\n",
       " '2021-03-04 18:00:00',\n",
       " '2021-03-04 19:00:00',\n",
       " '2021-03-04 20:00:00']"
      ]
     },
     "execution_count": 8,
     "metadata": {},
     "output_type": "execute_result"
    }
   ],
   "source": [
    "time06 = [parse_tflag(t).strftime(\"%Y-%m-%d %H:%M:%S\") for t in np.squeeze(ds06['TFLAG'].values)]\n",
    "time06[0:6]"
   ]
  },
  {
   "cell_type": "code",
   "execution_count": 9,
   "id": "5c11ff2b-eec4-403e-93ca-bef81ed95d2d",
   "metadata": {},
   "outputs": [
    {
     "data": {
      "text/plain": [
       "['2021-03-04 21:00:00',\n",
       " '2021-03-04 22:00:00',\n",
       " '2021-03-04 23:00:00',\n",
       " '2021-03-05 00:00:00',\n",
       " '2021-03-05 01:00:00',\n",
       " '2021-03-05 02:00:00']"
      ]
     },
     "execution_count": 9,
     "metadata": {},
     "output_type": "execute_result"
    }
   ],
   "source": [
    "time12 = [parse_tflag(t).strftime(\"%Y-%m-%d %H:%M:%S\") for t in np.squeeze(ds12['TFLAG'].values)]\n",
    "time12[0:6]"
   ]
  },
  {
   "cell_type": "code",
   "execution_count": 11,
   "id": "1a442e93-cd64-4180-a753-2f2e8c70d29e",
   "metadata": {},
   "outputs": [
    {
     "name": "stdout",
     "output_type": "stream",
     "text": [
      "time00: 2021-03-04 09:00:00 to 2021-03-06 11:00:00\n",
      "time06: 2021-03-04 15:00:00 to 2021-03-06 17:00:00\n",
      "time12: 2021-03-04 21:00:00 to 2021-03-06 23:00:00\n",
      "time18: 2021-03-04 03:00:00 to 2021-03-05 23:00:00\n"
     ]
    }
   ],
   "source": [
    "print(f'time00: {time00[0]} to {time00[-1]}')\n",
    "print(f'time06: {time06[0]} to {time06[-1]}')\n",
    "print(f'time12: {time12[0]} to {time12[-1]}')\n",
    "print(f'time18: {time18[0]} to {time18[-1]}')"
   ]
  },
  {
   "cell_type": "code",
   "execution_count": 1,
   "id": "6f11418e-bc66-4bb6-9cd7-9e1448f008fa",
   "metadata": {},
   "outputs": [
    {
     "ename": "NameError",
     "evalue": "name 'datetime' is not defined",
     "output_type": "error",
     "traceback": [
      "\u001b[0;31m---------------------------------------------------------------------------\u001b[0m",
      "\u001b[0;31mNameError\u001b[0m                                 Traceback (most recent call last)",
      "Cell \u001b[0;32mIn[1], line 1\u001b[0m\n\u001b[0;32m----> 1\u001b[0m \u001b[38;5;28mprint\u001b[39m(\u001b[38;5;124mf\u001b[39m\u001b[38;5;124m\"\u001b[39m\u001b[38;5;124mtime00: \u001b[39m\u001b[38;5;132;01m{\u001b[39;00mdatetime\u001b[38;5;241m.\u001b[39mdatetime\u001b[38;5;241m.\u001b[39mstrptime(time00[\u001b[38;5;241m0\u001b[39m],\u001b[38;5;250m \u001b[39m\u001b[38;5;124m'\u001b[39m\u001b[38;5;124m%\u001b[39m\u001b[38;5;124mY-\u001b[39m\u001b[38;5;124m%\u001b[39m\u001b[38;5;124mm-\u001b[39m\u001b[38;5;132;01m%d\u001b[39;00m\u001b[38;5;124m \u001b[39m\u001b[38;5;124m%\u001b[39m\u001b[38;5;124mH:\u001b[39m\u001b[38;5;124m%\u001b[39m\u001b[38;5;124mM:\u001b[39m\u001b[38;5;124m%\u001b[39m\u001b[38;5;124mS\u001b[39m\u001b[38;5;124m'\u001b[39m)\u001b[38;5;250m \u001b[39m\u001b[38;5;241m-\u001b[39m\u001b[38;5;250m \u001b[39mdatetime\u001b[38;5;241m.\u001b[39mdatetime\u001b[38;5;241m.\u001b[39mstrptime(time00[\u001b[38;5;241m-\u001b[39m\u001b[38;5;241m1\u001b[39m],\u001b[38;5;250m \u001b[39m\u001b[38;5;124m'\u001b[39m\u001b[38;5;124m%\u001b[39m\u001b[38;5;124mY-\u001b[39m\u001b[38;5;124m%\u001b[39m\u001b[38;5;124mm-\u001b[39m\u001b[38;5;132;01m%d\u001b[39;00m\u001b[38;5;124m \u001b[39m\u001b[38;5;124m%\u001b[39m\u001b[38;5;124mH:\u001b[39m\u001b[38;5;124m%\u001b[39m\u001b[38;5;124mM:\u001b[39m\u001b[38;5;124m%\u001b[39m\u001b[38;5;124mS\u001b[39m\u001b[38;5;124m'\u001b[39m)\u001b[38;5;132;01m}\u001b[39;00m\u001b[38;5;124m\"\u001b[39m)\n\u001b[1;32m      2\u001b[0m \u001b[38;5;28mprint\u001b[39m(\u001b[38;5;124mf\u001b[39m\u001b[38;5;124m\"\u001b[39m\u001b[38;5;124mtime06: \u001b[39m\u001b[38;5;132;01m{\u001b[39;00mdatetime\u001b[38;5;241m.\u001b[39mdatetime\u001b[38;5;241m.\u001b[39mstrptime(time06[\u001b[38;5;241m0\u001b[39m],\u001b[38;5;250m \u001b[39m\u001b[38;5;124m'\u001b[39m\u001b[38;5;124m%\u001b[39m\u001b[38;5;124mY-\u001b[39m\u001b[38;5;124m%\u001b[39m\u001b[38;5;124mm-\u001b[39m\u001b[38;5;132;01m%d\u001b[39;00m\u001b[38;5;124m \u001b[39m\u001b[38;5;124m%\u001b[39m\u001b[38;5;124mH:\u001b[39m\u001b[38;5;124m%\u001b[39m\u001b[38;5;124mM:\u001b[39m\u001b[38;5;124m%\u001b[39m\u001b[38;5;124mS\u001b[39m\u001b[38;5;124m'\u001b[39m)\u001b[38;5;250m \u001b[39m\u001b[38;5;241m-\u001b[39m\u001b[38;5;250m \u001b[39mdatetime\u001b[38;5;241m.\u001b[39mdatetime\u001b[38;5;241m.\u001b[39mstrptime(time06[\u001b[38;5;241m-\u001b[39m\u001b[38;5;241m1\u001b[39m],\u001b[38;5;250m \u001b[39m\u001b[38;5;124m'\u001b[39m\u001b[38;5;124m%\u001b[39m\u001b[38;5;124mY-\u001b[39m\u001b[38;5;124m%\u001b[39m\u001b[38;5;124mm-\u001b[39m\u001b[38;5;132;01m%d\u001b[39;00m\u001b[38;5;124m \u001b[39m\u001b[38;5;124m%\u001b[39m\u001b[38;5;124mH:\u001b[39m\u001b[38;5;124m%\u001b[39m\u001b[38;5;124mM:\u001b[39m\u001b[38;5;124m%\u001b[39m\u001b[38;5;124mS\u001b[39m\u001b[38;5;124m'\u001b[39m)\u001b[38;5;132;01m}\u001b[39;00m\u001b[38;5;124m\"\u001b[39m)\n\u001b[1;32m      3\u001b[0m \u001b[38;5;28mprint\u001b[39m(\u001b[38;5;124mf\u001b[39m\u001b[38;5;124m\"\u001b[39m\u001b[38;5;124mtime12: \u001b[39m\u001b[38;5;132;01m{\u001b[39;00mdatetime\u001b[38;5;241m.\u001b[39mdatetime\u001b[38;5;241m.\u001b[39mstrptime(time12[\u001b[38;5;241m0\u001b[39m],\u001b[38;5;250m \u001b[39m\u001b[38;5;124m'\u001b[39m\u001b[38;5;124m%\u001b[39m\u001b[38;5;124mY-\u001b[39m\u001b[38;5;124m%\u001b[39m\u001b[38;5;124mm-\u001b[39m\u001b[38;5;132;01m%d\u001b[39;00m\u001b[38;5;124m \u001b[39m\u001b[38;5;124m%\u001b[39m\u001b[38;5;124mH:\u001b[39m\u001b[38;5;124m%\u001b[39m\u001b[38;5;124mM:\u001b[39m\u001b[38;5;124m%\u001b[39m\u001b[38;5;124mS\u001b[39m\u001b[38;5;124m'\u001b[39m)\u001b[38;5;250m \u001b[39m\u001b[38;5;241m-\u001b[39m\u001b[38;5;250m \u001b[39mdatetime\u001b[38;5;241m.\u001b[39mdatetime\u001b[38;5;241m.\u001b[39mstrptime(time12[\u001b[38;5;241m-\u001b[39m\u001b[38;5;241m1\u001b[39m],\u001b[38;5;250m \u001b[39m\u001b[38;5;124m'\u001b[39m\u001b[38;5;124m%\u001b[39m\u001b[38;5;124mY-\u001b[39m\u001b[38;5;124m%\u001b[39m\u001b[38;5;124mm-\u001b[39m\u001b[38;5;132;01m%d\u001b[39;00m\u001b[38;5;124m \u001b[39m\u001b[38;5;124m%\u001b[39m\u001b[38;5;124mH:\u001b[39m\u001b[38;5;124m%\u001b[39m\u001b[38;5;124mM:\u001b[39m\u001b[38;5;124m%\u001b[39m\u001b[38;5;124mS\u001b[39m\u001b[38;5;124m'\u001b[39m)\u001b[38;5;132;01m}\u001b[39;00m\u001b[38;5;124m\"\u001b[39m)\n",
      "\u001b[0;31mNameError\u001b[0m: name 'datetime' is not defined"
     ]
    }
   ],
   "source": [
    "print(f\"time00: {datetime.datetime.strptime(time00[0], '%Y-%m-%d %H:%M:%S') - datetime.datetime.strptime(time00[-1], '%Y-%m-%d %H:%M:%S')}\")\n",
    "print(f\"time06: {datetime.datetime.strptime(time06[0], '%Y-%m-%d %H:%M:%S') - datetime.datetime.strptime(time06[-1], '%Y-%m-%d %H:%M:%S')}\")\n",
    "print(f\"time12: {datetime.datetime.strptime(time12[0], '%Y-%m-%d %H:%M:%S') - datetime.datetime.strptime(time12[-1], '%Y-%m-%d %H:%M:%S')}\")\n",
    "print(f\"time18: {datetime.datetime.strptime(time18[0], '%Y-%m-%d %H:%M:%S') - datetime.datetime.strptime(time18[-1], '%Y-%m-%d %H:%M:%S')}\")"
   ]
  },
  {
   "cell_type": "code",
   "execution_count": 12,
   "id": "f7960531-b971-4290-9245-354de6ef4730",
   "metadata": {},
   "outputs": [
    {
     "name": "stdout",
     "output_type": "stream",
     "text": [
      "file00: /usr/sci/cedmav/data/firesmoke/BSC00CA12-01/dispersion_20210304.nc\n",
      "file06: /usr/sci/cedmav/data/firesmoke/BSC06CA12-01/dispersion_20210304.nc\n",
      "file12: /usr/sci/cedmav/data/firesmoke/BSC12CA12-01/dispersion_20210304.nc\n",
      "file18: /usr/sci/cedmav/data/firesmoke/BSC18CA12-01/dispersion_20210304.nc\n"
     ]
    }
   ],
   "source": [
    "print(f\"file00: {file00}\")\n",
    "print(f\"file06: {file06}\")\n",
    "print(f\"file12: {file12}\")\n",
    "print(f\"file18: {file18}\")"
   ]
  }
 ],
 "metadata": {
  "kernelspec": {
   "display_name": "Python 3 (ipykernel)",
   "language": "python",
   "name": "python3"
  },
  "language_info": {
   "codemirror_mode": {
    "name": "ipython",
    "version": 3
   },
   "file_extension": ".py",
   "mimetype": "text/x-python",
   "name": "python",
   "nbconvert_exporter": "python",
   "pygments_lexer": "ipython3",
   "version": "3.9.18"
  }
 },
 "nbformat": 4,
 "nbformat_minor": 5
}
