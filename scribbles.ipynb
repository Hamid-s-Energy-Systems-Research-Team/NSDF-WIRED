{
 "cells": [
  {
   "cell_type": "markdown",
   "id": "22a04a99-de42-4253-9ea9-ad7064da9e36",
   "metadata": {},
   "source": [
    "# scribbles\n",
    "here is a scratchpad for code that isn't quite ready to stand alone in the directories or in it's own script..."
   ]
  },
  {
   "cell_type": "code",
   "execution_count": 1,
   "id": "e296f9f5-25ea-4ac8-be79-baf0e5eadb86",
   "metadata": {
    "tags": []
   },
   "outputs": [],
   "source": [
    "# Used to read/manipulate netCDF data\n",
    "import xarray as xr\n",
    "\n",
    "# Used to convert to .idx\n",
    "from OpenVisus import *\n",
    "\n",
    "# Used for numerical work\n",
    "import numpy as np\n",
    "\n",
    "# Used for processing netCDF time data\n",
    "import datetime\n",
    "\n",
    "# Used for interacting with OS file system (to get directory file names)\n",
    "import os\n",
    "\n",
    "# # Used for redownloading netCDF files from https://firesmoke.ca/ if opening currently downloaded file fails\n",
    "# import wget\n",
    "\n",
    "# Accessory, used to generate progress bar for running for loops\n",
    "from tqdm.notebook import tqdm"
   ]
  },
  {
   "cell_type": "code",
   "execution_count": null,
   "id": "5fe272a3-b9a6-4c63-94f9-bc62c7397027",
   "metadata": {
    "tags": []
   },
   "outputs": [],
   "source": [
    "file = '/Users/arleth/Desktop/trash/dispersion_20210501.nc'\n",
    "xr.open_dataset(file)"
   ]
  },
  {
   "cell_type": "code",
   "execution_count": null,
   "id": "4212e7be-87ac-4de8-be0c-ea3fc6174944",
   "metadata": {
    "tags": []
   },
   "outputs": [],
   "source": [
    "# firesmoke_dir = \"/Users/arleth/Mount/firesmoke\"\n",
    "firesmoke_dir = \"/usr/sci/cedmav/data/firesmoke\"\n",
    "\n",
    "ids = [\"BSC18CA12-01\", \"BSC00CA12-01\", \"BSC06CA12-01\", \"BSC12CA12-01\"]"
   ]
  },
  {
   "cell_type": "code",
   "execution_count": 6,
   "id": "eb382cf7-3b3d-4ac7-acb8-fa58863ca889",
   "metadata": {
    "tags": []
   },
   "outputs": [],
   "source": [
    "# for parsing time flags (TFLAG) from netcdf files\n",
    "def parse_tflag(tflag):\n",
    "    year = int(tflag[0] // 1000)\n",
    "    day_of_year = int(tflag[0] % 1000)\n",
    "    date = datetime.datetime(year, 1, 1) + datetime.timedelta(days=day_of_year - 1)\n",
    "\n",
    "    time_in_day = int(tflag[1])\n",
    "    hours = time_in_day // 10000\n",
    "    minutes = (time_in_day % 10000) // 100\n",
    "    seconds = time_in_day % 100\n",
    "\n",
    "    full_datetime = datetime.datetime(year, date.month, date.day, hours, minutes, seconds)\n",
    "    return full_datetime"
   ]
  },
  {
   "cell_type": "code",
   "execution_count": null,
   "id": "02925c56-3527-45e2-90f5-e284ab23a0af",
   "metadata": {
    "tags": []
   },
   "outputs": [],
   "source": [
    "file18 = f'{firesmoke_dir}/{ids[0]}/dispersion_20210304.nc'\n",
    "file00 = f'{firesmoke_dir}/{ids[1]}/dispersion_20210304.nc'\n",
    "file06 = f'{firesmoke_dir}/{ids[2]}/dispersion_20210304.nc'\n",
    "file12 = f'{firesmoke_dir}/{ids[3]}/dispersion_20210304.nc'\n",
    "\n",
    "file_mine = f'{firesmoke_dir}/{ids[1]}/dispersion_20240209.nc'"
   ]
  },
  {
   "cell_type": "code",
   "execution_count": null,
   "id": "c6707a23-b1b3-4fe0-bc75-37ed26f188d3",
   "metadata": {
    "tags": []
   },
   "outputs": [],
   "source": [
    "ds00 = xr.open_dataset(file00)\n",
    "ds06 = xr.open_dataset(file06)\n",
    "ds12 = xr.open_dataset(file12)\n",
    "ds18 = xr.open_dataset(file18)\n",
    "\n",
    "ds_mine = xr.open_dataset(file_mine)"
   ]
  },
  {
   "cell_type": "code",
   "execution_count": null,
   "id": "1a205154-e09c-4303-ad6e-b7b1c8a057e4",
   "metadata": {},
   "outputs": [],
   "source": [
    "time18 = [parse_tflag(t).strftime(\"%Y-%m-%d %H:%M:%S\") for t in np.squeeze(ds18['TFLAG'].values)]\n",
    "time18[0:6]"
   ]
  },
  {
   "cell_type": "code",
   "execution_count": null,
   "id": "03045438-b240-4830-b76c-f109ed343c8b",
   "metadata": {},
   "outputs": [],
   "source": [
    "time00 = [parse_tflag(t).strftime(\"%Y-%m-%d %H:%M:%S\") for t in np.squeeze(ds00['TFLAG'].values)]\n",
    "time00[0:6]"
   ]
  },
  {
   "cell_type": "code",
   "execution_count": null,
   "id": "ad102e6b-7891-4dac-a023-f698949c13c8",
   "metadata": {},
   "outputs": [],
   "source": [
    "time06 = [parse_tflag(t).strftime(\"%Y-%m-%d %H:%M:%S\") for t in np.squeeze(ds06['TFLAG'].values)]\n",
    "time06[0:6]"
   ]
  },
  {
   "cell_type": "code",
   "execution_count": null,
   "id": "5c11ff2b-eec4-403e-93ca-bef81ed95d2d",
   "metadata": {},
   "outputs": [],
   "source": [
    "time12 = [parse_tflag(t).strftime(\"%Y-%m-%d %H:%M:%S\") for t in np.squeeze(ds12['TFLAG'].values)]\n",
    "time12[0:6]"
   ]
  },
  {
   "cell_type": "code",
   "execution_count": null,
   "id": "1a442e93-cd64-4180-a753-2f2e8c70d29e",
   "metadata": {},
   "outputs": [],
   "source": [
    "print(f'time00: {time00[0]} to {time00[-1]}')\n",
    "print(f'time06: {time06[0]} to {time06[-1]}')\n",
    "print(f'time12: {time12[0]} to {time12[-1]}')\n",
    "print(f'time18: {time18[0]} to {time18[-1]}')"
   ]
  },
  {
   "cell_type": "code",
   "execution_count": null,
   "id": "6f11418e-bc66-4bb6-9cd7-9e1448f008fa",
   "metadata": {},
   "outputs": [],
   "source": [
    "print(f\"time00: {datetime.datetime.strptime(time00[0], '%Y-%m-%d %H:%M:%S') - datetime.datetime.strptime(time00[-1], '%Y-%m-%d %H:%M:%S')}\")\n",
    "print(f\"time06: {datetime.datetime.strptime(time06[0], '%Y-%m-%d %H:%M:%S') - datetime.datetime.strptime(time06[-1], '%Y-%m-%d %H:%M:%S')}\")\n",
    "print(f\"time12: {datetime.datetime.strptime(time12[0], '%Y-%m-%d %H:%M:%S') - datetime.datetime.strptime(time12[-1], '%Y-%m-%d %H:%M:%S')}\")\n",
    "print(f\"time18: {datetime.datetime.strptime(time18[0], '%Y-%m-%d %H:%M:%S') - datetime.datetime.strptime(time18[-1], '%Y-%m-%d %H:%M:%S')}\")"
   ]
  },
  {
   "cell_type": "code",
   "execution_count": null,
   "id": "f7960531-b971-4290-9245-354de6ef4730",
   "metadata": {},
   "outputs": [],
   "source": [
    "print(f\"file00: {file00}\")\n",
    "print(f\"file06: {file06}\")\n",
    "print(f\"file12: {file12}\")\n",
    "print(f\"file18: {file18}\")"
   ]
  },
  {
   "cell_type": "code",
   "execution_count": null,
   "id": "da6f11a1-e294-44ff-8ad4-26ad8e41deab",
   "metadata": {
    "tags": []
   },
   "outputs": [],
   "source": [
    "import pickle\n",
    "\n",
    "# Load conversion_seq from a file\n",
    "with open('conversion/idx_calls_v4.pkl', 'rb') as f:\n",
    "    idx_calls_v4 = pickle.load(f)\n",
    "\n",
    "# Load idx_calls from a file\n",
    "with open('conversion/idx_calls_v3.pkl', 'rb') as f:\n",
    "    idx_calls_v3 = pickle.load(f)"
   ]
  },
  {
   "cell_type": "markdown",
   "id": "9172f54f-deaf-49f2-b346-3ee18f012e42",
   "metadata": {},
   "source": [
    "---"
   ]
  },
  {
   "cell_type": "markdown",
   "id": "aaa06283-3ca9-41ed-984c-32f96057dbc2",
   "metadata": {},
   "source": [
    "Western Canada `BSC00WC04-01` dataset scribbles"
   ]
  },
  {
   "cell_type": "code",
   "execution_count": 14,
   "id": "4fb084e6-983a-48a7-a094-341304512ecb",
   "metadata": {
    "tags": []
   },
   "outputs": [],
   "source": [
    "firesmoke_dir = \"/usr/sci/scratch_nvme/arleth/download/BSC00WC04-01\"\n",
    "datasets = []\n",
    "times = []\n",
    "for i in np.arange(1, 5):\n",
    "    datasets.append(xr.open_dataset(f'{firesmoke_dir}/dispersion_2022011{i}.nc'))\n",
    "\n",
    "for ds in datasets:\n",
    "    t = [parse_tflag(t).strftime(\"%Y-%m-%d %H:%M:%S\") for t in np.squeeze(ds['TFLAG'].values)]\n",
    "    times.append(t)"
   ]
  },
  {
   "cell_type": "code",
   "execution_count": 18,
   "id": "e2b98588-5a0c-4c40-a5f6-241d248bdf8a",
   "metadata": {
    "tags": []
   },
   "outputs": [
    {
     "name": "stdout",
     "output_type": "stream",
     "text": [
      "t[0]: -3 days, 22:00:00\n",
      "t[0]: -3 days, 22:00:00\n",
      "t[0]: -3 days, 22:00:00\n",
      "t[0]: -3 days, 22:00:00\n"
     ]
    }
   ],
   "source": [
    "# print time range for each file\n",
    "for t in times:\n",
    "    print(f\"t[0]: {datetime.datetime.strptime(t[0], '%Y-%m-%d %H:%M:%S') - datetime.datetime.strptime(t[-1], '%Y-%m-%d %H:%M:%S')}\")"
   ]
  },
  {
   "cell_type": "code",
   "execution_count": null,
   "id": "2ec623c1-2d4b-4b1f-b7e3-9fc456ff1a02",
   "metadata": {},
   "outputs": [],
   "source": []
  }
 ],
 "metadata": {
  "kernelspec": {
   "display_name": "Python 3 (ipykernel)",
   "language": "python",
   "name": "python3"
  },
  "language_info": {
   "codemirror_mode": {
    "name": "ipython",
    "version": 3
   },
   "file_extension": ".py",
   "mimetype": "text/x-python",
   "name": "python",
   "nbconvert_exporter": "python",
   "pygments_lexer": "ipython3",
   "version": "3.9.19"
  }
 },
 "nbformat": 4,
 "nbformat_minor": 5
}
