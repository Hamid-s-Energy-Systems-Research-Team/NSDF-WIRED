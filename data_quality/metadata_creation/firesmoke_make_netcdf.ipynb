{
 "cells": [
  {
   "cell_type": "markdown",
   "id": "ac6332ee-b9d9-48fe-888f-a3cf6236b628",
   "metadata": {},
   "source": [
    "# Create small netcdf\n",
    "We import the arrays generated in `firesmoke_make_metadata.ipynb` as well as additional metadata from original netCDF file."
   ]
  },
  {
   "cell_type": "markdown",
   "id": "75804daa-573e-48c9-bfbb-df8fd0e7b68f",
   "metadata": {},
   "source": [
    "## Import necessary libraries"
   ]
  },
  {
   "cell_type": "code",
   "execution_count": null,
   "id": "8429b156-0fcd-4c8c-be69-ef2905c2ac54",
   "metadata": {
    "scrolled": true,
    "tags": []
   },
   "outputs": [],
   "source": [
    "# to open original netcdfs and new netcdf with idx url\n",
    "import xarray as xr\n",
    "import numpy as np\n",
    "# for connecting OpenVisus framework to xarray\n",
    "# from https://github.com/sci-visus/openvisuspy, \n",
    "from openvisuspy.xarray_backend import OpenVisusBackendEntrypoint"
   ]
  },
  {
   "cell_type": "markdown",
   "id": "e992f041-545e-4849-ad63-fcc98a80daee",
   "metadata": {},
   "source": [
    "## Load the original metadata from one dispersion.nc file"
   ]
  },
  {
   "cell_type": "markdown",
   "id": "ac09dfe2-b191-415c-ad81-8e37697259f2",
   "metadata": {},
   "source": [
    "Get path to a netcdf file containing metadata"
   ]
  },
  {
   "cell_type": "code",
   "execution_count": null,
   "id": "fa018f81-44de-45a7-abf9-bd315aa6cdfe",
   "metadata": {
    "tags": []
   },
   "outputs": [],
   "source": [
    "# ******* THIS IS WHEN RUNNING FROM ATLANTIS.SCI **************\n",
    "firesmoke_file = \"/usr/sci/cedmav/data/firesmoke/BSC00CA12-01/dispersion_20240103.nc\""
   ]
  },
  {
   "cell_type": "code",
   "execution_count": null,
   "id": "84b57d27-4304-4c6f-b148-7c87ef64e61c",
   "metadata": {
    "scrolled": true,
    "tags": []
   },
   "outputs": [],
   "source": [
    "# load the original netcdf file\n",
    "ds = xr.open_dataset(firesmoke_file)\n",
    "\n",
    "# take a look\n",
    "ds"
   ]
  },
  {
   "cell_type": "markdown",
   "id": "937aeea1-ffa6-4009-968d-587a7056c994",
   "metadata": {},
   "source": [
    "Drop the TFLAGs and create a new TFLAGs variable with all 27k timesteps. \n",
    "Drop PM25 variable, this is the variable of interest and already in IDX file.\n",
    "Drop the attributes that are unique to this file, we're adding variables to represent all this metadata instead."
   ]
  },
  {
   "cell_type": "code",
   "execution_count": null,
   "id": "a511c29d-0873-46c6-9cc8-5a0b4cfd68e2",
   "metadata": {
    "tags": []
   },
   "outputs": [],
   "source": [
    "# drop the TFLAG variable and add our own, also drop PM25, this is the array stored by idx\n",
    "# ref: https://docs.xarray.dev/en/stable/generated/xarray.DataArray.drop_vars.html\n",
    "ds_new = ds.drop_vars(\"TFLAG\")\n",
    "ds_new = ds_new.drop_vars(\"PM25\")\n",
    "\n",
    "# delete the attributes we are now adding as variables\n",
    "attrs = ['CDATE', 'CTIME', 'WDATE', 'WTIME', 'SDATE', 'STIME']\n",
    "for attr in attrs:\n",
    "    del ds_new.attrs[attr]\n",
    "\n",
    "# ds_new is now empty except for attributes\n",
    "ds_new"
   ]
  },
  {
   "cell_type": "markdown",
   "id": "4b62fe4a-b703-4517-8a18-af31f00ef485",
   "metadata": {
    "tags": []
   },
   "source": [
    "## Create new variables for metadata from `firesmoke_make_metadata.ipynb` and add to our netCDF file"
   ]
  },
  {
   "cell_type": "code",
   "execution_count": null,
   "id": "4609fc6b-4a4e-4e4d-a388-dcbb696daeec",
   "metadata": {},
   "outputs": [],
   "source": [
    "# import metadata\n",
    "tflags = np.load(\"firesmoke_v4-tflags.npy\")\n",
    "init_tflags = np.load(\"firesmoke_v4-last_init.npy\")\n",
    "resamp = np.load(\"firesmoke_v4-resamp.npy\")\n",
    "\n",
    "attr_data = {attr: [] for attr in attrs}\n",
    "for attr in attrs:\n",
    "    attr_data[attr] = np.load(f\"firesmoke_v4-{attr}.npy\")\n",
    "\n",
    "# reshape timeflags so they're exactly like UBC's original tflags\n",
    "tflags = np.expand_dims(tflags, axis=1)\n",
    "init_tflags = np.expand_dims(init_tflags, axis=1)\n",
    "\n",
    "# make timeflags int32, as in original netcdf\n",
    "tflags = tflags.astype(np.int32)\n",
    "init_tflags = init_tflags.astype(np.int32)\n",
    "\n",
    "# create dimensions for these arrays of metadata, stay as close as possible to UBC style dimenion naming convention\n",
    "# ref: https://docs.xarray.dev/en/latest/generated/xarray.Dataset.assign.html\n",
    "ds_new = ds_new.assign({'TFLAG':(['time', 'VAR', 'DATE-TIME'], tflags)})\n",
    "ds_new = ds_new.assign({'wrf_arw_init_time':(['time', 'VAR', 'DATE-TIME'], init_tflags)})\n",
    "ds_new = ds_new.assign({'resampled':(['time'], resamp)})\n",
    "\n",
    "for attr in attrs:\n",
    "    ds_new = ds_new.assign({attr:(['time'], attr_data[attr])})\n",
    "\n",
    "# take a look, now we just need to add pm25\n",
    "ds_new"
   ]
  },
  {
   "cell_type": "code",
   "execution_count": null,
   "id": "d96a5e9b-2e04-48b4-afa7-87b1323eb281",
   "metadata": {},
   "outputs": [],
   "source": [
    "# Create a PM25 dataarray representing dims of one time slice\n",
    "pm25_var = xr.DataArray(np.zeros((ds.NROWS, ds.NCOLS)), dims=['ROW', 'COL'], attrs=ds['PM25'].attrs)\n",
    "\n",
    "# add PM25 to dataset, this is strictly for storing the dimensionality of PM25\n",
    "# as this is dimensionality info is not available to xarray from idx file\n",
    "ds_new['PM25'] = pm25_var"
   ]
  },
  {
   "cell_type": "markdown",
   "id": "22743b0d-954c-4e63-963a-8724386e66b7",
   "metadata": {},
   "source": [
    "### Add idx_url as an attribute, then we're ready to save our tiny netcdf."
   ]
  },
  {
   "cell_type": "code",
   "execution_count": null,
   "id": "be178da7-2ff0-4eb8-b05e-cca9b56aca1c",
   "metadata": {},
   "outputs": [],
   "source": [
    "# url to idx file\n",
    "idx_url = \"http://atlantis.sci.utah.edu/mod_visus?dataset=UBC_fire_smoke_BSC&cached=1\"\n",
    "\n",
    "# Adding a new idx_url attribute\n",
    "ds_new = ds_new.assign_attrs({'idx_url': idx_url})"
   ]
  },
  {
   "cell_type": "code",
   "execution_count": null,
   "id": "fd3470f7-3c27-4b75-82df-d7bf4dd6b3b2",
   "metadata": {},
   "outputs": [],
   "source": [
    "# directory to new tiny netcfd file\n",
    "new_nc = \"firesmoke_metadata.nc\"\n",
    "\n",
    "# save xarray dataset as netcdf, this is the metadata we put into tiny netcdf\n",
    "ds_new.to_netcdf(\"firesmoke_metadata.nc\")"
   ]
  },
  {
   "cell_type": "code",
   "execution_count": null,
   "id": "d05f28b0-f4c3-4b88-b626-42698c0114a2",
   "metadata": {},
   "outputs": [],
   "source": [
    "# check out the tiny netcdf loaded by vanilla xarray\n",
    "xr.open_dataset(new_nc)"
   ]
  },
  {
   "cell_type": "markdown",
   "id": "807d6b22-cbcb-479f-a25a-664dae56418a",
   "metadata": {},
   "source": [
    "## Test tiny netcdf"
   ]
  },
  {
   "cell_type": "markdown",
   "id": "fda1a5cc-4358-4328-9dc3-d436aa986aea",
   "metadata": {},
   "source": [
    "## Load tiny netcdf file with backend_v3 and pass timestamps above as timesteps"
   ]
  },
  {
   "cell_type": "code",
   "execution_count": null,
   "id": "c8465d63-b573-47fd-90d9-18c3cc056bbb",
   "metadata": {},
   "outputs": [],
   "source": [
    "# load data\n",
    "final_ds = xr.open_dataset(new_nc, engine=OpenVisusBackendEntrypoint)\n",
    "final_ds"
   ]
  }
 ],
 "metadata": {
  "kernelspec": {
   "display_name": "Python 3 (ipykernel)",
   "language": "python",
   "name": "python3"
  },
  "language_info": {
   "codemirror_mode": {
    "name": "ipython",
    "version": 3
   },
   "file_extension": ".py",
   "mimetype": "text/x-python",
   "name": "python",
   "nbconvert_exporter": "python",
   "pygments_lexer": "ipython3",
   "version": "3.9.18"
  }
 },
 "nbformat": 4,
 "nbformat_minor": 5
}
