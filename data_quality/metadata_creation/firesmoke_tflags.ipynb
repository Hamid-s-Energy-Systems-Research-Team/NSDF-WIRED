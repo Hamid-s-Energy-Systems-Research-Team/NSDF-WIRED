{
 "cells": [
  {
   "cell_type": "markdown",
   "id": "5ac25998-cfa8-4666-8a19-247586c526ee",
   "metadata": {},
   "source": [
    "### Here we're making an array of all the tflags from the idx conversion v3"
   ]
  },
  {
   "cell_type": "markdown",
   "id": "899b06a1-6ad9-4da6-b346-5361a4c03b8c",
   "metadata": {},
   "source": [
    "## Import necessary libraries"
   ]
  },
  {
   "cell_type": "code",
   "execution_count": 1,
   "id": "99b73e96-27fd-4a23-b378-12ce04b5324b",
   "metadata": {},
   "outputs": [],
   "source": [
    "# Used to read/manipulate netCDF data\n",
    "import xarray as xr\n",
    "\n",
    "# Used for interacting with OS file system (to get directory file names)\n",
    "import os\n",
    "\n",
    "# Used for processing netCDF time data\n",
    "import time\n",
    "import datetime\n",
    "\n",
    "# Used for numerical work\n",
    "import numpy as np\n",
    "\n",
    "# Used for loading data from pickle data\n",
    "import pickle\n",
    "\n",
    "# Accessory for generating progress bar to see progress of loops\n",
    "from tqdm import tqdm"
   ]
  },
  {
   "cell_type": "markdown",
   "id": "8e6561cb-f86e-429d-b95d-6c68a5e29f08",
   "metadata": {},
   "source": [
    "## Import sequence of dates"
   ]
  },
  {
   "cell_type": "code",
   "execution_count": 2,
   "id": "e65eb4d8-3fe1-4266-b984-235323f3bc2a",
   "metadata": {},
   "outputs": [],
   "source": [
    "with open(\"idx_calls.pkl\", \"rb\") as input_file:\n",
    "    idx_calls = pickle.load(input_file)"
   ]
  },
  {
   "cell_type": "markdown",
   "id": "9cc76787-8834-432d-a8d7-203f8d3ff005",
   "metadata": {},
   "source": [
    "## The tflags from `idx_calls` aren't in the format used by UBC, so we need to convert them back"
   ]
  },
  {
   "cell_type": "code",
   "execution_count": 3,
   "id": "33f5c184-b5a1-458f-b2e4-3b70d8ad3925",
   "metadata": {},
   "outputs": [],
   "source": [
    "# obtaining the preferred tflag based on original metadata\n",
    "def reverse_parse_tflag(full_datetime):\n",
    "    year = full_datetime.year\n",
    "    day_of_year = full_datetime.timetuple().tm_yday\n",
    "    hours = full_datetime.hour\n",
    "    minutes = full_datetime.minute\n",
    "    seconds = full_datetime.second\n",
    "\n",
    "    tflag0 = year * 1000 + day_of_year\n",
    "    tflag1 = hours * 10000 + minutes * 100 + seconds\n",
    "\n",
    "    return tflag0, tflag1"
   ]
  },
  {
   "cell_type": "code",
   "execution_count": 7,
   "id": "6ef02cd8-c385-4480-acbd-d768d949553f",
   "metadata": {},
   "outputs": [
    {
     "data": {
      "text/plain": [
       "[(2021063, 0),\n",
       " (2021063, 10000),\n",
       " (2021063, 20000),\n",
       " (2021063, 30000),\n",
       " (2021063, 40000)]"
      ]
     },
     "execution_count": 7,
     "metadata": {},
     "output_type": "execute_result"
    }
   ],
   "source": [
    "# the final array of UBC style tflags\n",
    "tflags = []\n",
    "\n",
    "# create array of UBC style tflags from our sequence of idx_calls\n",
    "for call in idx_calls:\n",
    "    # get the tflag\n",
    "    curr_tflag = call[2]\n",
    "\n",
    "    # make UBC style tflag and append to our final array\n",
    "    tflags.append(reverse_parse_tflag(curr_tflag))\n",
    "\n",
    "# take a look at first 5 tflags\n",
    "tflags[0:5]"
   ]
  },
  {
   "cell_type": "code",
   "execution_count": 8,
   "id": "d777c92b-545c-4bbc-bb9b-5a507726f390",
   "metadata": {},
   "outputs": [],
   "source": [
    "# now save the tflags\n",
    "np.save('new-firesmoke-tflags.npy', tflags)"
   ]
  }
 ],
 "metadata": {
  "kernelspec": {
   "display_name": "Python 3 (ipykernel)",
   "language": "python",
   "name": "python3"
  },
  "language_info": {
   "codemirror_mode": {
    "name": "ipython",
    "version": 3
   },
   "file_extension": ".py",
   "mimetype": "text/x-python",
   "name": "python",
   "nbconvert_exporter": "python",
   "pygments_lexer": "ipython3",
   "version": "3.9.18"
  }
 },
 "nbformat": 4,
 "nbformat_minor": 5
}
