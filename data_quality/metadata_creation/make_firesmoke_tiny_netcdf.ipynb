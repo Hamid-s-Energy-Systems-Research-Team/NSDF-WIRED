{
 "cells": [
  {
   "cell_type": "markdown",
   "id": "ac6332ee-b9d9-48fe-888f-a3cf6236b628",
   "metadata": {},
   "source": [
    "# Create small netcdf"
   ]
  },
  {
   "cell_type": "markdown",
   "id": "75804daa-573e-48c9-bfbb-df8fd0e7b68f",
   "metadata": {},
   "source": [
    "## Import necessary libraries"
   ]
  },
  {
   "cell_type": "code",
   "execution_count": null,
   "id": "8429b156-0fcd-4c8c-be69-ef2905c2ac54",
   "metadata": {
    "scrolled": true
   },
   "outputs": [],
   "source": [
    "# to open original netcdfs and new netcdf with idx url\n",
    "import xarray as xr\n",
    "\n",
    "# backend connecting xarray and openvisuspy\n",
    "# made one small edit line 203\n",
    "from backend_v3 import *"
   ]
  },
  {
   "cell_type": "markdown",
   "id": "e2ef7b05-caa5-46da-adda-57bda114b4a4",
   "metadata": {},
   "source": [
    "## Gather metadata"
   ]
  },
  {
   "cell_type": "markdown",
   "id": "9747e842-6c8d-4046-83ba-7ef332d48f59",
   "metadata": {},
   "source": [
    "Get path to a netcdf file containing metadata"
   ]
  },
  {
   "cell_type": "code",
   "execution_count": null,
   "id": "fa018f81-44de-45a7-abf9-bd315aa6cdfe",
   "metadata": {},
   "outputs": [],
   "source": [
    "# ******* THIS IS WHEN RUNNING FROM ATLANTIS.SCI **************\n",
    "# directory to all firesmoke netcdf files\n",
    "firesmoke_file = \"/usr/sci/cedmav/data/firesmoke/BSC00CA12-01/dispersion_20240103.nc\"\n",
    "\n",
    "# # ******* THIS IS WHEN RUNNING FROM MY MACBOOK **************\n",
    "# # path to firesmoke netcdf file for BSC00CA12-01 dataset, mounted from sci change accordingly\n",
    "# firesmoke_file = '/Users/arleth/Mount/firesmoke/BSC00CA12-01/dispersion_20240103.nc'\n",
    "\n",
    "# # or just load locally\n",
    "# firesmoke_file = \"dispersion_20240103.nc\""
   ]
  },
  {
   "cell_type": "markdown",
   "id": "9485aa6a-ea1f-41e0-bdb2-8a06e038ab37",
   "metadata": {},
   "source": [
    "## Keep all included metadata, EXCEPT replace tsteps, since we have more than 51 AND DROP PM25 as this is stored by idx"
   ]
  },
  {
   "cell_type": "markdown",
   "id": "e992f041-545e-4849-ad63-fcc98a80daee",
   "metadata": {},
   "source": [
    "### Load the original metadata from one dispersion.nc file"
   ]
  },
  {
   "cell_type": "code",
   "execution_count": null,
   "id": "84b57d27-4304-4c6f-b148-7c87ef64e61c",
   "metadata": {
    "scrolled": true
   },
   "outputs": [],
   "source": [
    "# load the original netcdf file\n",
    "ds = xr.open_dataset(firesmoke_file)\n",
    "\n",
    "# take a look\n",
    "ds"
   ]
  },
  {
   "cell_type": "markdown",
   "id": "937aeea1-ffa6-4009-968d-587a7056c994",
   "metadata": {},
   "source": [
    "### Drop the TFLAG and create a new TFLAG variable with all 24k timesteps.* Drop PM25 variable, this is the variable of interest and already in idx file\n",
    "\n",
    "*timesteps npy file created manually in `firesmoke_tflags.ipynb`"
   ]
  },
  {
   "cell_type": "code",
   "execution_count": null,
   "id": "a511c29d-0873-46c6-9cc8-5a0b4cfd68e2",
   "metadata": {},
   "outputs": [],
   "source": [
    "# drop the TFLAG variable and add our own, also drop PM25, this is the array stored by idx\n",
    "# ref: https://docs.xarray.dev/en/stable/generated/xarray.DataArray.drop_vars.html\n",
    "ds_new = ds.drop_vars(\"TFLAG\")\n",
    "ds_new = ds_new.drop_vars(\"PM25\")\n",
    "\n",
    "# ds_new is now empty except for attributes\n",
    "ds_new"
   ]
  },
  {
   "cell_type": "code",
   "execution_count": null,
   "id": "4609fc6b-4a4e-4e4d-a388-dcbb696daeec",
   "metadata": {},
   "outputs": [],
   "source": [
    "# import new tflags from file\n",
    "tflags = np.load(\"new-firesmoke-tflags.npy\")\n",
    "\n",
    "# reshape them so it's exactly like UBC's original tflags\n",
    "tflags = np.expand_dims(tflags, axis=1)\n",
    "\n",
    "# make them int32, as in original netcdf\n",
    "tflags = tflags.astype(np.int32)\n",
    "\n",
    "# replace 'TSTEP' with time, to be compatible with our openvisus backend_v3.py\n",
    "dims = [*ds['TFLAG'].dims]\n",
    "dims[0] = 'time'\n",
    "\n",
    "# create a new DataArray using imported tflags, use same attributes and dims from original netcdf file\n",
    "# ref: https://docs.xarray.dev/en/latest/generated/xarray.Variable.html\n",
    "# ref: https://docs.xarray.dev/en/stable/generated/xarray.DataArray.html\n",
    "tflags_var = xr.DataArray(tflags, dims=dims, attrs=ds['TFLAG'].attrs)\n",
    "\n",
    "# add tflags to dataset\n",
    "ds_new['TFLAG'] = tflags_var\n",
    "\n",
    "# take a look, now we just need to add pm25\n",
    "ds_new"
   ]
  },
  {
   "cell_type": "code",
   "execution_count": null,
   "id": "d96a5e9b-2e04-48b4-afa7-87b1323eb281",
   "metadata": {},
   "outputs": [],
   "source": [
    "# Create an PM25 dataarray representing dims of one time slice\n",
    "pm25_var = xr.DataArray(np.zeros((ds.NROWS, ds.NCOLS)), dims=['ROW', 'COL'], attrs=ds['PM25'].attrs)\n",
    "\n",
    "# add PM25 to dataset, this is strictly for storing the dimensionality of PM25\n",
    "# as this is dimensionality info is not available to xarray from idx file\n",
    "ds_new['PM25'] = pm25_var"
   ]
  },
  {
   "cell_type": "markdown",
   "id": "22743b0d-954c-4e63-963a-8724386e66b7",
   "metadata": {},
   "source": [
    "### Add idx_url as an attribute, then we're ready to save our tiny netcdf."
   ]
  },
  {
   "cell_type": "code",
   "execution_count": null,
   "id": "be178da7-2ff0-4eb8-b05e-cca9b56aca1c",
   "metadata": {},
   "outputs": [],
   "source": [
    "# url to idx file\n",
    "idx_url = \"http://atlantis.sci.utah.edu/mod_visus?dataset=UBC_fire_smoke_BSC&cached=1\"\n",
    "\n",
    "# Adding a new idx_url attribute\n",
    "ds_new = ds_new.assign_attrs({'idx_url': idx_url})"
   ]
  },
  {
   "cell_type": "code",
   "execution_count": null,
   "id": "fd3470f7-3c27-4b75-82df-d7bf4dd6b3b2",
   "metadata": {},
   "outputs": [],
   "source": [
    "# directory to new tiny netcfd file\n",
    "new_nc = \"firesmoke_metadata.nc\"\n",
    "\n",
    "# save xarray dataset as netcdf, this is the metadata we put into tiny netcdf\n",
    "ds_new.to_netcdf(\"firesmoke_metadata.nc\")"
   ]
  },
  {
   "cell_type": "code",
   "execution_count": null,
   "id": "d05f28b0-f4c3-4b88-b626-42698c0114a2",
   "metadata": {},
   "outputs": [],
   "source": [
    "# check out the tiny netcdf loaded by vanilla xarray\n",
    "xr.open_dataset(new_nc)"
   ]
  },
  {
   "cell_type": "markdown",
   "id": "807d6b22-cbcb-479f-a25a-664dae56418a",
   "metadata": {},
   "source": [
    "## Test tiny netcdf"
   ]
  },
  {
   "cell_type": "markdown",
   "id": "fda1a5cc-4358-4328-9dc3-d436aa986aea",
   "metadata": {},
   "source": [
    "## Load tiny netcdf file with backend_v3 and pass timestamps above as timesteps"
   ]
  },
  {
   "cell_type": "code",
   "execution_count": null,
   "id": "c8465d63-b573-47fd-90d9-18c3cc056bbb",
   "metadata": {},
   "outputs": [],
   "source": [
    "# load data\n",
    "final_ds = xr.open_dataset(new_nc, engine=OpenVisusBackendEntrypoint)\n",
    "final_ds"
   ]
  }
 ],
 "metadata": {
  "kernelspec": {
   "display_name": "Python 3 (ipykernel)",
   "language": "python",
   "name": "python3"
  },
  "language_info": {
   "codemirror_mode": {
    "name": "ipython",
    "version": 3
   },
   "file_extension": ".py",
   "mimetype": "text/x-python",
   "name": "python",
   "nbconvert_exporter": "python",
   "pygments_lexer": "ipython3",
   "version": "3.9.18"
  }
 },
 "nbformat": 4,
 "nbformat_minor": 5
}
