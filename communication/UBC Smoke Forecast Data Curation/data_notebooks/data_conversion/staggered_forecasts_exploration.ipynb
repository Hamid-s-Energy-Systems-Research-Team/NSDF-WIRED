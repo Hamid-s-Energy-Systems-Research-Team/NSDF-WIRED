{
 "cells": [
  {
   "cell_type": "markdown",
   "id": "22a04a99-de42-4253-9ea9-ad7064da9e36",
   "metadata": {},
   "source": [
    "Here we show how we select the optimal predictions across all NetCDF files to create our single dataset."
   ]
  },
  {
   "cell_type": "markdown",
   "id": "21ac7ded-60c2-41c2-9009-45a8abd6c73a",
   "metadata": {},
   "source": [
    "**TODO**"
   ]
  }
 ],
 "metadata": {
  "kernelspec": {
   "display_name": "Python 3 (ipykernel)",
   "language": "python",
   "name": "python3"
  },
  "language_info": {
   "codemirror_mode": {
    "name": "ipython",
    "version": 3
   },
   "file_extension": ".py",
   "mimetype": "text/x-python",
   "name": "python",
   "nbconvert_exporter": "python",
   "pygments_lexer": "ipython3",
   "version": "3.9.18"
  }
 },
 "nbformat": 4,
 "nbformat_minor": 5
}
