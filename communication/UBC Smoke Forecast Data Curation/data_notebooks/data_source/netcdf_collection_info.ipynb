{
 "cells": [
  {
   "cell_type": "markdown",
   "id": "94c7ede3-336b-4456-8a6c-36af150cc279",
   "metadata": {},
   "source": [
    "Here we show for what temporal range there is PM25 data available from the NetCDF files as a *collection*."
   ]
  },
  {
   "cell_type": "markdown",
   "id": "2db2b379-c618-48db-b820-5e76a6f4c4d2",
   "metadata": {},
   "source": [
    "#### Available Time Ranges"
   ]
  },
  {
   "cell_type": "markdown",
   "id": "3ba592ad-9013-4d70-b8a1-47cd4735fe61",
   "metadata": {},
   "source": [
    "We have downloaded all NetCDF files available within the time ranges specified by @tbl-time.\n",
    "\n",
    "We want to describe exactly what time ranges are covered by each forecast. We will load the NetCDF file for the date March 3, 2024 for each forecast ID."
   ]
  },
  {
   "cell_type": "code",
   "execution_count": 4,
   "id": "05c7baea-1cc7-4a21-9119-0ae216be6fba",
   "metadata": {
    "tags": []
   },
   "outputs": [],
   "source": [
    "file18 = f'dispersion_files/18/dispersion_20210304.nc' # <1>\n",
    "file00 = f'dispersion_files/00/dispersion_20210304.nc'\n",
    "file06 = f'dispersion_files/06/dispersion_20210304.nc'\n",
    "file12 = f'dispersion_files/12/dispersion_20210304.nc'"
   ]
  },
  {
   "cell_type": "markdown",
   "id": "1127127a-fc78-44bf-b1ba-e08edde93e84",
   "metadata": {},
   "source": [
    "1. set paths to files, if you run this demo locally, adjust these as necessary"
   ]
  },
  {
   "cell_type": "markdown",
   "id": "5be0a259-5d95-411d-961b-3d2f1ff90374",
   "metadata": {},
   "source": [
    "**TODO**"
   ]
  }
 ],
 "metadata": {
  "kernelspec": {
   "display_name": "Python 3 (ipykernel)",
   "language": "python",
   "name": "python3"
  },
  "language_info": {
   "codemirror_mode": {
    "name": "ipython",
    "version": 3
   },
   "file_extension": ".py",
   "mimetype": "text/x-python",
   "name": "python",
   "nbconvert_exporter": "python",
   "pygments_lexer": "ipython3",
   "version": "3.9.18"
  }
 },
 "nbformat": 4,
 "nbformat_minor": 5
}
