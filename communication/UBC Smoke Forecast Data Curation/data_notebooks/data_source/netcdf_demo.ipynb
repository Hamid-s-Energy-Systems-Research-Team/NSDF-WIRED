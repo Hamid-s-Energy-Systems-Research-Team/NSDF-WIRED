{
 "cells": [
  {
   "cell_type": "markdown",
   "id": "9b31a20f-19d5-4248-8263-c36678c94a9e",
   "metadata": {},
   "source": [
    "In this demo we load one `dispersion.nc` file and explore how to visualize the data within the file."
   ]
  },
  {
   "cell_type": "markdown",
   "id": "ae79c5b3-8d4b-443c-a35a-e6a4e81bdc88",
   "metadata": {},
   "source": [
    "#### Accessing the File"
   ]
  },
  {
   "cell_type": "markdown",
   "id": "09c9575d-98ed-4a79-a9f9-1da66deb3c33",
   "metadata": {},
   "source": [
    "We use the forecast for March 4, 2021 where the weather forecast is initiated at 00:00:00 UTC and the smoke forecast is initialized at 08:00:00 UTC. You can download this file by navigating to the URL below."
   ]
  },
  {
   "cell_type": "code",
   "execution_count": null,
   "id": "1ba61fc1-57bc-463f-b727-7247704687bf",
   "metadata": {
    "tags": []
   },
   "outputs": [],
   "source": [
    "forecast_id = \"BSC00CA12-01\"\n",
    "yyyymmdd = \"20210304\"\n",
    "init_time = \"08\"\n",
    "\n",
    "url = (\n",
    "    f\"https://firesmoke.ca/forecasts/{forecast_id}/{yyyymmdd}{init_time}/dispersion.nc\"\n",
    ")\n",
    "\n",
    "print(f\"Navigate to this URL in your browser: {url}\")"
   ]
  },
  {
   "cell_type": "markdown",
   "id": "277ee1e7-aa37-4534-b278-6e0f3d28c54a",
   "metadata": {},
   "source": [
    "##### Opening the File"
   ]
  },
  {
   "cell_type": "markdown",
   "id": "d966c673-6868-4bbf-a7a7-af2b2b1f0820",
   "metadata": {},
   "source": [
    "We use xarray to open the NetCDF file and preview it."
   ]
  },
  {
   "cell_type": "code",
   "execution_count": null,
   "id": "1deb1a65-60aa-4ea0-8d16-9834fcd5ebb2",
   "metadata": {
    "tags": []
   },
   "outputs": [],
   "source": [
    "import xarray as xr\n",
    "\n",
    "ds = xr.open_dataset(\"dispersion.nc\")\n",
    "\n",
    "ds"
   ]
  },
  {
   "cell_type": "markdown",
   "id": "518530ee-69b1-4e3f-bfdf-a71b497ecf86",
   "metadata": {},
   "source": [
    "#### Using the Data"
   ]
  },
  {
   "cell_type": "markdown",
   "id": "4582e32c-7dff-49d0-a4ba-f6ba49d085f3",
   "metadata": {},
   "source": [
    "##### Accessing Arrays"
   ]
  },
  {
   "cell_type": "markdown",
   "id": "6574dcda-01ee-4f56-9d51-5238a271e1ba",
   "metadata": {},
   "source": [
    "The data we are interested in is the PM2.5 values. Let's use `xarray` to preview the `PM25` variable in our file."
   ]
  },
  {
   "cell_type": "code",
   "execution_count": null,
   "id": "824844d7-d75b-4021-bac9-75d9fd6ef0fc",
   "metadata": {
    "tags": []
   },
   "outputs": [],
   "source": [
    "ds[\"PM25\"]"
   ]
  },
  {
   "cell_type": "markdown",
   "id": "51c1d745-d43d-4e27-b4df-534df7b984f3",
   "metadata": {},
   "source": [
    "The dimensions of the `PM25` data array are composed of `TSTEP`, `LAY`, `ROW`, and `COL`. We do not need the `LAY` dimension, so let's use `numpy` to remove it."
   ]
  },
  {
   "cell_type": "code",
   "execution_count": null,
   "id": "e0d5e2c8",
   "metadata": {
    "tags": []
   },
   "outputs": [],
   "source": [
    "import numpy as np\n",
    "\n",
    "ds_pm25_vals = ds[\"PM25\"].values # <1>\n",
    "print(f'The shape of the data contained in our files is: {np.shape(ds_pm25_vals)}')\n",
    "\n",
    "ds_pm25_vals = np.squeeze(ds_pm25_vals) # <2>\n",
    "print(f'After squeezing, the shape is: {np.shape(ds_pm25_vals)}')"
   ]
  },
  {
   "cell_type": "markdown",
   "id": "720a8b06-c12c-456b-864e-5cacb89f046f",
   "metadata": {},
   "source": [
    "1. Use .values to get the four dimensional array.\n",
    "2. Use `np.squeeze` to drop the LAY axis"
   ]
  },
  {
   "cell_type": "markdown",
   "id": "8c1204a2-72ca-4c68-820f-71fe3af12c7a",
   "metadata": {},
   "source": [
    "##### Visualize Array in `matplotlib`"
   ]
  },
  {
   "cell_type": "markdown",
   "id": "a6adb388-55a9-4ce3-8ff0-492c8c18892c",
   "metadata": {},
   "source": [
    "Now that we squeezed away the `LAY` dimension, we can index time step 15 and use `matplotlib` to visualize the timestep"
   ]
  },
  {
   "cell_type": "code",
   "execution_count": null,
   "id": "86aaa612-80ce-4285-a89d-ea4dc80daa85",
   "metadata": {
    "tags": []
   },
   "outputs": [],
   "source": [
    "import matplotlib.pyplot as plt\n",
    "\n",
    "tstep = 15\n",
    "smoke_at_tstep = ds_pm25_vals[tstep, :, :]\n",
    "\n",
    "my_fig, my_plt = plt.subplots(figsize=(15, 6))\n",
    "\n",
    "my_norm = \"log\" # <1>\n",
    "my_aspect = 'auto' # <2>\n",
    "my_origin = 'lower' # <3>\n",
    "my_cmap = 'viridis' # <4>\n",
    " \n",
    "plot = my_plt.imshow(smoke_at_tstep, norm=my_norm, aspect=my_aspect, origin=my_origin, cmap=my_cmap) # <5>\n",
    "\n",
    "my_fig.colorbar(plot, location='right', label='ug/m^3') # <6>\n",
    "\n",
    "my_fig.suptitle('Ground level concentration of PM2.5 microns and smaller') # <7>\n",
    "\n",
    "my_plt.set_title(f'Timestep {tstep}') # <8>\n",
    "\n",
    "plt.show() # <9>"
   ]
  },
  {
   "cell_type": "markdown",
   "id": "1d6ff57b-024e-4ecc-b95f-824f8e0642b3",
   "metadata": {},
   "source": [
    "1. Color PM25 values on a log scale, since values are small.\n",
    "2. Ensure the aspect ratio of our plot fits all data, `matplotlib` can do this automatically.\n",
    "3. Tell `matplotlib` our origin is the lower-left corner.\n",
    "4. Select a colormap for our plot and draw the color bar on the right.\n",
    "5. Create our plot using `imshow`.\n",
    "6. Add a colorbar to our figure, based on the plot we just made above.\n",
    "7. Set title of our figure.\n",
    "8. Set title of our plot as the timestamp of our data.\n",
    "9. Show the resulting visualization."
   ]
  },
  {
   "cell_type": "markdown",
   "id": "81ead780-5a09-4df8-b2ce-b41a3bd25143",
   "metadata": {},
   "source": [
    "Notice there are no axis labels or metadata presented here. Next we will show how to use the metadata in `dispersion.nc` so the data is actually interpretable."
   ]
  },
  {
   "cell_type": "markdown",
   "id": "64f839f3-37dd-4b36-ba84-b2d880166173",
   "metadata": {},
   "source": [
    "#### Incorporating Metadata to Visualization via Coordinates"
   ]
  },
  {
   "cell_type": "markdown",
   "id": "5dbc1a80-c7e8-467c-9601-65f2a1c1a0ad",
   "metadata": {},
   "source": [
    "###### Latitude and Longitude Coordinates"
   ]
  },
  {
   "cell_type": "markdown",
   "id": "b096d7f0-de63-4fcf-a3dd-5fa9289b9212",
   "metadata": {},
   "source": [
    "`dispersion.nc` includes attributes to generate the latitude and longitude values on the grid defined by `NCOLS` and `NROWS`. We use this grid to match each data point in the `PM25` variable to a lat/lon coordinate."
   ]
  },
  {
   "cell_type": "code",
   "execution_count": null,
   "id": "31c60995-14b7-43db-8990-32fcf9fa5284",
   "metadata": {
    "tags": []
   },
   "outputs": [],
   "source": [
    "xorig = ds.XORIG\n",
    "yorig = ds.YORIG\n",
    "xcell = ds.XCELL\n",
    "ycell = ds.YCELL\n",
    "ncols = ds.NCOLS\n",
    "nrows = ds.NROWS\n",
    "\n",
    "longitude = np.linspace(xorig, xorig + xcell * (ncols - 1), ncols)\n",
    "latitude = np.linspace(yorig, yorig + ycell * (nrows - 1), nrows)\n",
    "\n",
    "print(\"Size of longitude & latitude arrays:\")\n",
    "print(f'np.size(longitude) = {np.size(longitude)}')\n",
    "print(f'np.size(latitude) = {np.size(latitude)}\\n')\n",
    "print(\"Min & Max of longitude and latitude arrays:\")\n",
    "print(f'longitude: min = {np.min(longitude)}, max = {np.max(longitude)}')\n",
    "print(f'latitude: min = {np.min(latitude)}, max = {np.max(latitude)}')"
   ]
  },
  {
   "cell_type": "markdown",
   "id": "f7b18374-bb94-4520-961b-eb1ee884f17d",
   "metadata": {},
   "source": [
    "`xarray` allows us to create coordinates, which maps variable values to a value of our choice. In this case, we create coordinates mapping PM25 values to a latitude and longitude value."
   ]
  },
  {
   "cell_type": "code",
   "execution_count": null,
   "id": "9ef954d2-4a95-418d-82cf-22923a32852c",
   "metadata": {
    "tags": []
   },
   "outputs": [],
   "source": [
    "ds.coords['lat'] = ('ROW', latitude) # <1>\n",
    "ds.coords['lon'] = ('COL', longitude)\n",
    "\n",
    "ds = ds.swap_dims({'COL': 'lon', 'ROW': 'lat'})\n",
    "\n",
    "ds"
   ]
  },
  {
   "cell_type": "markdown",
   "id": "790c3d53-1059-4de3-8b09-e4cdce8ff959",
   "metadata": {},
   "source": [
    "1. Create coordinates for latitude and longitude.\n",
    "2. Replace `COL` and `ROW` dimensions with newly calculated longitude and latitude coordinates."
   ]
  },
  {
   "cell_type": "markdown",
   "id": "87cd62b0-23c8-47f8-90e8-2af4af6bdc96",
   "metadata": {},
   "source": [
    "Now let's move on to incorporating time stamp metadata."
   ]
  },
  {
   "cell_type": "markdown",
   "id": "b9a1e85e-52ff-4c94-bffe-b35d52d112f9",
   "metadata": {},
   "source": [
    "##### Time Coordinates"
   ]
  },
  {
   "cell_type": "markdown",
   "id": "6e80724d-7d18-477a-98fd-b5b7729d1239",
   "metadata": {},
   "source": [
    "Recall, there is a `TFLAG` variable in `dispersion.nc`."
   ]
  },
  {
   "cell_type": "code",
   "execution_count": null,
   "id": "b2824e4f-f63a-4b64-8314-30e4d848cc08",
   "metadata": {
    "tags": []
   },
   "outputs": [],
   "source": [
    "ds['TFLAG']"
   ]
  },
  {
   "cell_type": "markdown",
   "id": "78dc23ae-cdea-4a6c-ae6c-173a13f98c21",
   "metadata": {},
   "source": [
    "The earliest and latest `TFLAG`s look like the following:"
   ]
  },
  {
   "cell_type": "code",
   "execution_count": null,
   "id": "87d452cb-6362-4abe-9ebd-f218095147bf",
   "metadata": {
    "tags": []
   },
   "outputs": [],
   "source": [
    "print(f\"Earliest available TFLAG is {ds['TFLAG'].values[0][0]}\")\n",
    "print(f\"Latest available TFLAG is {ds['TFLAG'].values[-1][0]}\")"
   ]
  },
  {
   "cell_type": "markdown",
   "id": "7ed298f5-d518-4120-bf9f-64d8ffccacec",
   "metadata": {},
   "source": [
    "This time flags require processing to be immediately legible. Let's write a function to process the time flag accordingly. We use the `datetime` library."
   ]
  },
  {
   "cell_type": "code",
   "execution_count": null,
   "id": "a530d613",
   "metadata": {
    "tags": []
   },
   "outputs": [],
   "source": [
    "import datetime\n",
    "\n",
    "def parse_tflag(tflag):\n",
    "    \"\"\"\n",
    "    Return the tflag as a datetime object\n",
    "    :param list tflag: a list of two int32, the 1st representing date and 2nd representing time\n",
    "    \"\"\"\n",
    "    date = int(tflag[0]) # <1>\n",
    "    year = date // 1000 # <2>\n",
    "    day_of_year = date % 1000 # <3>\n",
    "\n",
    "    final_date = datetime.datetime(year, 1, 1) + datetime.timedelta(days=day_of_year - 1) # <4>\n",
    "\n",
    "    time = int(tflag[1]) # <5>\n",
    "    hours = time // 10000 # <6>\n",
    "    minutes = (time % 10000) // 100 # <7>\n",
    "    seconds = time % 100  # <8>\n",
    "\n",
    "    full_datetime = datetime.datetime(year, final_date.month, final_date.day, hours, minutes, seconds) # <9>\n",
    "    return full_datetime"
   ]
  },
  {
   "cell_type": "markdown",
   "id": "e5ae5135-437c-485c-9755-7a20cb9da2b7",
   "metadata": {},
   "source": [
    "1. Obtain year and day of year from `tflag[0]` (date).\n",
    "2. Extract the year from the first 4 digits of `tflag[0]`.\n",
    "3. Extract the day of the year from the last 3 digits of `tflag[0]`.\n",
    "4. Create a `datetime` object representing the date.\n",
    "5. Obtain hour, minutes, and seconds from `tflag[1]` (time).\n",
    "6. Extract hours from the first 2 digits of `tflag[1]`.\n",
    "7. Extract minutes from the 3rd and 4th digits of `tflag[1]`.\n",
    "8. Extract seconds from the last 2 digits of `tflag[1]`.\n",
    "9. Create the final `datetime` object with the extracted date and time components."
   ]
  },
  {
   "cell_type": "markdown",
   "id": "3ceddff1-d71b-4d59-a551-7acf0d60c92b",
   "metadata": {},
   "source": [
    "Now we have datetime objects to represent the timeflag in a more legible and usable format."
   ]
  },
  {
   "cell_type": "code",
   "execution_count": null,
   "id": "f8cee66b-bc8d-4392-882f-0ef777415ccd",
   "metadata": {
    "tags": []
   },
   "outputs": [],
   "source": [
    "print(f\"Earliest available TFLAG is {parse_tflag(ds['TFLAG'].values[0][0])}\")\n",
    "print(f\"Latest available TFLAG is {parse_tflag(ds['TFLAG'].values[-1][0])}\")"
   ]
  },
  {
   "cell_type": "markdown",
   "id": "3f457186-efe7-40ef-9bf9-0c2b2e8a9d33",
   "metadata": {
    "tags": []
   },
   "source": [
    "##### Visualize Array in `matplotlib`\n",
    "\n",
    "Let's visualize timestep 15 again, but now we can label the data using latitudes and longitudes, and the corresponding time flag."
   ]
  },
  {
   "cell_type": "code",
   "execution_count": null,
   "id": "28a46c45-b483-4e75-850e-165bc6a4e018",
   "metadata": {
    "tags": []
   },
   "outputs": [],
   "source": [
    "tstep = 15 # <1>\n",
    "smoke_at_tstep = ds_pm25_vals[tstep, :, :] # <2>\n",
    "tstep_tflag = parse_tflag(ds['TFLAG'].values[tstep][0]) # <3>\n",
    "\n",
    "import matplotlib.pyplot as plt\n",
    "import cartopy.crs as ccrs\n",
    "\n",
    "my_fig, my_plt = plt.subplots(figsize=(15, 6), subplot_kw=dict(projection=ccrs.PlateCarree())) # <4>\n",
    "\n",
    "my_norm = \"log\" # <5>\n",
    "my_extent = [np.min(longitude), np.max(longitude), np.min(latitude), np.max(latitude)] # <6>\n",
    "my_aspect = 'auto' # <7>\n",
    "my_origin = 'lower' # <8>\n",
    "my_cmap = 'viridis' # <9>\n",
    "\n",
    "plot = my_plt.imshow(smoke_at_tstep, norm=my_norm, extent=my_extent, \n",
    "          aspect=my_aspect, origin=my_origin, cmap=my_cmap) # <10>\n",
    "\n",
    "my_plt.coastlines() # <11>\n",
    "\n",
    "my_plt.gridlines(draw_labels=True) # <12>\n",
    "\n",
    "my_fig.colorbar(plot, location='right', label='ug/m^3') # <13>\n",
    "\n",
    "my_fig.supxlabel('Longitude') # <14>\n",
    "my_fig.supylabel('Latitude') # <15>\n",
    "\n",
    "my_fig.suptitle('Ground level concentration of PM2.5 microns and smaller') # <16>\n",
    "\n",
    "my_plt.set_title(f'{tstep_tflag}') # <17>\n",
    "\n",
    "plt.show() # <18>"
   ]
  },
  {
   "cell_type": "markdown",
   "id": "8efad59e-314e-4606-a033-0352a6ad3b95",
   "metadata": {},
   "source": [
    "1. Define the time step.\n",
    "2. Extract the PM2.5 data for the specified time step.\n",
    "3. Parse the time flag for the specified time step.\n",
    "4. Initialize a figure and plot with a specific projection.\n",
    "5. Set the normalization for PM2.5 values to a logarithmic scale.\n",
    "6. Define the extent of the plot based on the longitude and latitude range.\n",
    "7. Set the aspect ratio of the plot to fit all data automatically.\n",
    "8. Specify the origin of the plot as the lower-left corner.\n",
    "9. Choose a colormap for the plot.\n",
    "10. Create the plot using `imshow` with the specified parameters.\n",
    "11. Draw coastlines on the plot.\n",
    "12. Draw latitude and longitude lines with labels.\n",
    "13. Add a colorbar to the figure based on the plot.\n",
    "14. Set the x-axis label.\n",
    "15. Set the y-axis label.\n",
    "16. Set the title of the figure.\n",
    "17. Set the title of the plot as the timestamp of the data.\n",
    "18. Display the resulting visualization."
   ]
  }
 ],
 "metadata": {
  "kernelspec": {
   "display_name": "Python 3 (ipykernel)",
   "language": "python",
   "name": "python3"
  },
  "language_info": {
   "codemirror_mode": {
    "name": "ipython",
    "version": 3
   },
   "file_extension": ".py",
   "mimetype": "text/x-python",
   "name": "python",
   "nbconvert_exporter": "python",
   "pygments_lexer": "ipython3",
   "version": "3.9.18"
  }
 },
 "nbformat": 4,
 "nbformat_minor": 5
}
