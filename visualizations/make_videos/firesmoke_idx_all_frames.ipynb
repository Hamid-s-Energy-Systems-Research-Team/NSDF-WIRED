{
 "cells": [
  {
   "cell_type": "markdown",
   "id": "217f49b7-528d-4384-aede-cc371224b9fd",
   "metadata": {},
   "source": [
    "# Create .PNG images of all timesteps in IDX firesmoke dataset"
   ]
  },
  {
   "cell_type": "markdown",
   "id": "38ac89f1-da13-4a78-b05f-ac4a17fea961",
   "metadata": {},
   "source": [
    "## Import necessary libraries"
   ]
  },
  {
   "cell_type": "code",
   "execution_count": 3,
   "id": "dfdb7475-1c3d-41ef-92a2-dbaaaba8ef6f",
   "metadata": {},
   "outputs": [],
   "source": [
    "# for numerical work\n",
    "import numpy as np\n",
    "\n",
    "# for accessing file system\n",
    "import os\n",
    "\n",
    "# for downloading latest firesmoke netCDF\n",
    "import requests\n",
    "\n",
    "# for loading netcdf files, for metadata\n",
    "import xarray as xr\n",
    "# for connecting OpenVisus framework to xarray\n",
    "# from https://github.com/sci-visus/openvisuspy, \n",
    "from openvisuspy.xarray_backend import OpenVisusBackendEntrypoint\n",
    "\n",
    "# Used for processing netCDF time data\n",
    "import time\n",
    "import datetime\n",
    "\n",
    "# Used for indexing via metadata\n",
    "import pandas as pd\n",
    "\n",
    "# for plotting\n",
    "import matplotlib\n",
    "import matplotlib.pyplot as plt\n",
    "import cartopy.crs as ccrs\n",
    "\n",
    "# for exporting the dictionary of issue files at the end of notebook\n",
    "import pickle\n",
    "\n",
    "# Stores the OpenVisus cache in the local direcrtory \n",
    "import os\n",
    "os.environ[\"VISUS_CACHE\"]=\"./visus_cache_can_be_erased\"\n",
    "\n",
    "# Accessory, used to generate progress bar for running for loops\n",
    "# from tqdm.notebook import tqdm\n",
    "# import ipywidgets\n",
    "# import jupyterlab_widgets\n",
    "from tqdm import tqdm\n",
    "\n",
    "from OpenVisus import *"
   ]
  },
  {
   "cell_type": "markdown",
   "id": "f31dce7e-0bb4-459a-bf1f-85934fb960e5",
   "metadata": {
    "tags": []
   },
   "source": [
    "### In this section, we load our data using `xr.open_dataset`."
   ]
  },
  {
   "cell_type": "code",
   "execution_count": 4,
   "id": "a7ab5486-318a-4a2b-8af2-7fa89509b9e4",
   "metadata": {},
   "outputs": [
    {
     "name": "stdout",
     "output_type": "stream",
     "text": [
      "ov.LoadDataset(http://atlantis.sci.utah.edu/mod_visus?dataset=UBC_fire_smoke_BSC&cached=1)\n",
      "PM25\n",
      "Adding field  PM25 shape  [25053, 381, 1081, 21] dtype  float32 labels  ['time', 'ROW', 'COL', 'resolution'] Max Resolution  20\n"
     ]
    }
   ],
   "source": [
    "# path to tiny NetCDF\n",
    "url = 'https://github.com/sci-visus/NSDF-WIRED/raw/main/data/firesmoke_metadata_recent.nc'\n",
    "\n",
    "# Download the file using requests\n",
    "response = requests.get(url)\n",
    "local_netcdf = 'firesmoke_metadata.nc'\n",
    "with open(local_netcdf, 'wb') as f:\n",
    "    f.write(response.content)\n",
    "    \n",
    "# open tiny netcdf with xarray and OpenVisus backend\n",
    "ds = xr.open_dataset(local_netcdf, engine=OpenVisusBackendEntrypoint)"
   ]
  },
  {
   "cell_type": "markdown",
   "id": "924a37bd-1218-4096-bd68-f85e12dbf566",
   "metadata": {},
   "source": [
    "## Calculate derived metadata using original metadata above to create coordinates\n",
    "### This is required to allow for indexing of data via metadata"
   ]
  },
  {
   "cell_type": "markdown",
   "id": "7488084c-f982-4d03-ab25-7c81679aef1c",
   "metadata": {},
   "source": [
    "#### Calculate latitude and longitude grid"
   ]
  },
  {
   "cell_type": "code",
   "execution_count": 5,
   "id": "dd8287e0-dd1b-486a-850f-4ac8f229a23e",
   "metadata": {},
   "outputs": [],
   "source": [
    "# Get metadata to compute lon and lat\n",
    "xorig = ds.XORIG\n",
    "yorig = ds.YORIG\n",
    "xcell = ds.XCELL\n",
    "ycell = ds.YCELL\n",
    "ncols = ds.NCOLS\n",
    "nrows = ds.NROWS\n",
    "\n",
    "longitude = np.linspace(xorig, xorig + xcell * (ncols - 1), ncols)\n",
    "latitude = np.linspace(yorig, yorig + ycell * (nrows - 1), nrows)"
   ]
  },
  {
   "cell_type": "markdown",
   "id": "9627e8f5-b7df-4abc-aedf-8938bbebee29",
   "metadata": {},
   "source": [
    "#### Using calculated latitude and longitude, create coordinates allowing for indexing data using lat/lon"
   ]
  },
  {
   "cell_type": "code",
   "execution_count": 6,
   "id": "3f07279c-353b-4a74-a1ff-5c6543255a4f",
   "metadata": {
    "tags": []
   },
   "outputs": [],
   "source": [
    "# Create coordinates for lat and lon (credit: Aashish Panta)\n",
    "ds.coords['lat'] = ('ROW', latitude)\n",
    "ds.coords['lon'] = ('COL', longitude)\n",
    "\n",
    "# Replace col and row dimensions with newly calculated lon and lat arrays (credit: Aashish Panta)\n",
    "ds = ds.swap_dims({'COL': 'lon', 'ROW': 'lat'})"
   ]
  },
  {
   "cell_type": "markdown",
   "id": "de21fc5d-2883-4679-80db-4546e77ac62d",
   "metadata": {},
   "source": [
    "## Get timestamps to label video frames\n",
    "Need to use `idx_calls` generated during conversion"
   ]
  },
  {
   "cell_type": "code",
   "execution_count": null,
   "id": "6ced5310-d177-4bc2-9d31-1cb3bc786902",
   "metadata": {},
   "outputs": [],
   "source": [
    "# Load idx_calls from file\n",
    "with open('idx_calls_v4.pkl', 'rb') as f:\n",
    "    idx_calls = pickle.load(f)\n",
    "\n",
    "print(len(idx_calls))"
   ]
  },
  {
   "cell_type": "markdown",
   "id": "96b1a606-c306-4727-8e04-96c8de3069bf",
   "metadata": {},
   "source": [
    "##### Return an array of the tflags as pandas timestamps"
   ]
  },
  {
   "cell_type": "code",
   "execution_count": null,
   "id": "84a346c0-3874-4d73-aef5-37a329641098",
   "metadata": {},
   "outputs": [],
   "source": [
    "# to store pandas timestamps\n",
    "timestamps = []\n",
    "\n",
    "# convert all tflags to pandas timestamps, store in timestamps list\n",
    "for call in idx_calls:\n",
    "    timestamps.append(pd.Timestamp(call[2]))\n",
    "\n",
    "# check out the first 3 timestamps\n",
    "print(timestamps[0:3])"
   ]
  },
  {
   "cell_type": "markdown",
   "id": "a41bb5f3-d231-4fe7-8be6-69c53e78df99",
   "metadata": {},
   "source": [
    "## Create the video\n",
    "### note: ffmpeg needs to be installed for this"
   ]
  },
  {
   "cell_type": "code",
   "execution_count": null,
   "id": "ddf4f35e-eb0a-4e60-86aa-018cd76ea290",
   "metadata": {},
   "outputs": [],
   "source": [
    "# set parameters for indexing data\n",
    "data_resolution = 0\n",
    "folder = \"/usr/sci/scratch_nvme/arleth/dump/idx_frames\"\n",
    "\n",
    "# set parameters for creating visualization of each timestep with matplotlib\n",
    "my_norm = \"log\"\n",
    "my_extent = [np.min(longitude), np.max(longitude), np.min(latitude), np.max(latitude)]\n",
    "my_aspect = 'auto'\n",
    "my_origin = 'lower'\n",
    "my_cmap = 'hot'\n",
    "\n",
    "# to keep track of files that fail to visualized into .PNG\n",
    "issue_files = {}\n",
    "\n",
    "# for all timesteps create visualization of firesmoke at time\n",
    "for i in tqdm(range(len(idx_calls))):\n",
    "    # get PM25 values and provide 4 values, the colons mean select all lat and lon indices\n",
    "    data_array_at_time = ds['PM25'].loc[i, :, :, data_resolution]\n",
    "\n",
    "    # create visualization using matplotlib and cartopy geography lines, \n",
    "    # catch exceptions accordingly\n",
    "    try:\n",
    "        my_fig, my_plt = plt.subplots(figsize=(15, 6), subplot_kw=dict(projection=ccrs.PlateCarree()))\n",
    "        plot = my_plt.imshow(data, norm=my_norm, extent=my_extent, aspect=my_aspect, origin=my_origin, cmap=my_cmap)\n",
    "        my_fig.colorbar(plot,location='right', label='ug/m^3')\n",
    "        my_plt.coastlines()\n",
    "        my_plt.gridlines(draw_labels=True)\n",
    "        my_fig.suptitle(f'Ground level concentration of PM2.5 microns and smaller {timestamps[i]}\\n')\n",
    "        # add caption showing this is from IDX dataset\n",
    "        my_plt.text(0.5, -0.1, 'IDX Data', ha='center', va='center', transform=my_plt.transAxes)\n",
    "        \n",
    "        # # save visualization as a .PNG to our folder\n",
    "        plt.savefig(folder + \"/frames%05d.png\" % i, dpi=280)\n",
    "        plt.close(my_fig);  # close the figure after saving\n",
    "        # plt.show()\n",
    "        matplotlib.pyplot.close()\n",
    "    except:\n",
    "        issue_files[timestamps[i]] = data\n",
    "        continue"
   ]
  },
  {
   "cell_type": "code",
   "execution_count": null,
   "id": "97eb7afe-5960-4fee-aec8-b815c34c2664",
   "metadata": {},
   "outputs": [],
   "source": [
    "# save 'issue_files' to review\n",
    "with open('new_idx_issues.pkl', 'wb') as f:\n",
    "    pickle.dump(issue_files, f)"
   ]
  },
  {
   "cell_type": "code",
   "execution_count": null,
   "id": "5e2e20ec-4e42-456e-8ec8-e987ccefe289",
   "metadata": {},
   "outputs": [],
   "source": [
    "with open('new_idx_issues.pkl', 'rb') as f:\n",
    "    new_idx_issues = pickle.load(f)\n",
    "print(f'len of new_idx_issues.pkl = {len(new_idx_issues)}')"
   ]
  }
 ],
 "metadata": {
  "kernelspec": {
   "display_name": "Python 3 (ipykernel)",
   "language": "python",
   "name": "python3"
  },
  "language_info": {
   "codemirror_mode": {
    "name": "ipython",
    "version": 3
   },
   "file_extension": ".py",
   "mimetype": "text/x-python",
   "name": "python",
   "nbconvert_exporter": "python",
   "pygments_lexer": "ipython3",
   "version": "3.9.18"
  }
 },
 "nbformat": 4,
 "nbformat_minor": 5
}
