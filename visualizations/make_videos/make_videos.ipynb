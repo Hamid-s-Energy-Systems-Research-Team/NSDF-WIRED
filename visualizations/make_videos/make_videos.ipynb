{
 "cells": [
  {
   "cell_type": "markdown",
   "id": "29e8151e-9b57-4de7-9f8a-c93c3218d27a",
   "metadata": {},
   "source": [
    "# Create videos using .PNG images generated"
   ]
  },
  {
   "cell_type": "code",
   "execution_count": null,
   "id": "d742c8dc-5c39-4440-b57a-97c06aa928ee",
   "metadata": {
    "tags": []
   },
   "outputs": [],
   "source": [
    "# for creating video\n",
    "# ref: https://stackoverflow.com/questions/43048725/python-creating-video-from-images-using-opencv\n",
    "import cv2\n",
    "\n",
    "# for numerical work\n",
    "import numpy as np\n",
    "\n",
    "# for accessing file system\n",
    "import os\n",
    "\n",
    "# Used for processing netCDF time data\n",
    "import time"
   ]
  },
  {
   "cell_type": "code",
   "execution_count": null,
   "id": "42ba1260-fe79-4454-8399-730c613290f2",
   "metadata": {},
   "outputs": [],
   "source": [
    "def make_video(img_dir, video_dir, video_name):\n",
    "    '''\n",
    "    Create a video made of frames at img_dir and save to video_dir with the name video_name\n",
    "    :param \n",
    "    '''\n",
    "    # generate list of images sorted by name, this is chronological order of timesteps\n",
    "    # ref: https://stackoverflow.com/questions/27593227/listing-png-files-in-folder\n",
    "    images = [img for img in os.listdir(img_dir) if img.endswith(\".png\") and img.startswith(\"frames\")]\n",
    "    images = np.sort(images)\n",
    "\n",
    "    # initialize to first frame\n",
    "    frame = cv2.imread(os.path.join(img_dir, images[0]))\n",
    "    height, width, layers = frame.shape\n",
    "\n",
    "    video = cv2.VideoWriter(video_dir + video_name,cv2.VideoWriter_fourcc(*'mp4v'), 10, (width, height))\n",
    "\n",
    "    start_time = time.time()  # Record start time\n",
    "\n",
    "    # write each image to video\n",
    "    for img in images:\n",
    "        frame = cv2.imread(f'{img_dir}{img}')\n",
    "        video.write(frame)\n",
    "\n",
    "    end_time = time.time()  # Record end time\n",
    "    execution_time = end_time - start_time\n",
    "\n",
    "    print(f\"Total execution time: {execution_time:.2f} seconds\")\n",
    "\n",
    "    cv2.destroyAllWindows()\n",
    "    video.release()"
   ]
  },
  {
   "cell_type": "code",
   "execution_count": null,
   "id": "845710ca-94ad-493a-9316-5f749655e1d0",
   "metadata": {},
   "outputs": [],
   "source": [
    "# directories to IDX .PNGs and video name\n",
    "idx_image_folder = '/usr/sci/scratch_nvme/arleth/dump/idx_frames/'\n",
    "idx_video_folder = '/usr/sci/scratch_nvme/arleth/dump/videos/'\n",
    "idx_vid_name = 'idx_video_7_10_24.mp4'\n",
    "\n",
    "# directories to netCDF .PNGs and video name\n",
    "netcdf_image_folder = '/usr/sci/scratch_nvme/arleth/dump/netcdf_frames/'\n",
    "netcdf_video_folder = '/usr/sci/scratch_nvme/arleth/dump/videos/'\n",
    "netcdf_vid_name = 'netcdf_video_7_10_24.mp4'"
   ]
  },
  {
   "cell_type": "code",
   "execution_count": null,
   "id": "155253a5-3583-4011-a66a-c38f3b4d1d87",
   "metadata": {},
   "outputs": [],
   "source": [
    "print('done!')"
   ]
  }
 ],
 "metadata": {
  "kernelspec": {
   "display_name": "Python 3 (ipykernel)",
   "language": "python",
   "name": "python3"
  },
  "language_info": {
   "codemirror_mode": {
    "name": "ipython",
    "version": 3
   },
   "file_extension": ".py",
   "mimetype": "text/x-python",
   "name": "python",
   "nbconvert_exporter": "python",
   "pygments_lexer": "ipython3",
   "version": "3.9.18"
  }
 },
 "nbformat": 4,
 "nbformat_minor": 5
}
