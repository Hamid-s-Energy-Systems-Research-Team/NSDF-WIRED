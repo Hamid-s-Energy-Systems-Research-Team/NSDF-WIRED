{
 "cells": [
  {
   "cell_type": "markdown",
   "id": "ff5edf9e-1b2c-4e4f-bbac-70c0d7554e29",
   "metadata": {
    "jp-MarkdownHeadingCollapsed": true
   },
   "source": [
    "## This notebook provide the instructions on how to read UBC firesmoke data from the cloud using OpenVisus framework.\n",
    "\n",
    "### To run this notebook properly, you need to install the library `OpenVisus`. To install this, please run the following command from your terminal:\n",
    "`pip install OpenVisus`"
   ]
  },
  {
   "cell_type": "markdown",
   "id": "3ba0b27c-cda7-4c59-935d-50b7766303a4",
   "metadata": {},
   "source": [
    "# **Step 1: Importing the libraries**"
   ]
  },
  {
   "cell_type": "code",
   "execution_count": null,
   "id": "c9e182d7",
   "metadata": {
    "tags": []
   },
   "outputs": [],
   "source": [
    "import numpy as np\n",
    "import os\n",
    "os.environ[\"VISUS_CACHE\"]=\"./visus_cache_can_be_erased\"\n",
    "from OpenVisus import *\n",
    "import matplotlib.pyplot as plt\n",
    "import time\n",
    "start_time = time.time()"
   ]
  },
  {
   "cell_type": "markdown",
   "id": "b5047424-1db9-49eb-a882-77637e0adaaf",
   "metadata": {},
   "source": [
    "### Here we set a variable to the location of our data"
   ]
  },
  {
   "cell_type": "code",
   "execution_count": null,
   "id": "eee2e665-0ebf-44da-9f6a-e94955a01269",
   "metadata": {},
   "outputs": [],
   "source": [
    "pm25 = \"http://atlantis.sci.utah.edu/mod_visus?dataset=UBC_fire_smoke_BSC00CA12-01&cached=arco\""
   ]
  },
  {
   "cell_type": "code",
   "execution_count": null,
   "id": "d3b84b17-2cd0-42aa-800e-0ea3196227a7",
   "metadata": {},
   "outputs": [],
   "source": [
    "# pm25 = \"/usr/sci/scratch_nvme/arleth/idx/firesmoke2d/BSC00CA12-01/BSC00CA12-01.idx\""
   ]
  },
  {
   "cell_type": "code",
   "execution_count": null,
   "id": "4a13025e-6bd9-4be5-8496-e2f534b29f51",
   "metadata": {
    "tags": []
   },
   "outputs": [],
   "source": [
    "!python --version"
   ]
  },
  {
   "cell_type": "markdown",
   "id": "79a02fb9-abd7-4168-9f2d-6700c10d8eba",
   "metadata": {
    "tags": []
   },
   "source": [
    "## **Step 2: Reading the metadata file from cloud**\n",
    "In this section, we load our data using `LoadDataset`. We are just reading the metadata for the dataset here."
   ]
  },
  {
   "cell_type": "code",
   "execution_count": null,
   "id": "472f1b60-217f-4f50-96c5-2e079d53559a",
   "metadata": {
    "scrolled": true,
    "tags": []
   },
   "outputs": [],
   "source": [
    "db=LoadDataset(pm25)\n",
    "print(f'Dimensions: {db.getLogicBox()[1][0]}*{db.getLogicBox()[1][1]}')\n",
    "longitude_levels = db.getLogicBox()[1][0]\n",
    "latitude_levels = db.getLogicBox()[1][1]\n",
    "\n",
    "print(f'Total Timesteps: {len(db.getTimesteps())}')\n",
    "print(f'Field: {db.getField().name}')\n",
    "print('Data Type: float32')"
   ]
  },
  {
   "cell_type": "markdown",
   "id": "e117e22f-9aad-4562-be82-e64c2d91566d",
   "metadata": {},
   "source": [
    "For now we will manually load metadata from netCDF file as well."
   ]
  },
  {
   "cell_type": "code",
   "execution_count": null,
   "id": "122c4c47-a61a-4b80-9d8a-a227a88bd3ac",
   "metadata": {},
   "outputs": [],
   "source": [
    "print(f'Total Timesteps: {len(db.getTimesteps())}')\n"
   ]
  },
  {
   "cell_type": "code",
   "execution_count": null,
   "id": "4bed1838-6d2d-4787-a92c-87ab5ba24596",
   "metadata": {},
   "outputs": [],
   "source": [
    "len(db.getTimesteps())"
   ]
  },
  {
   "cell_type": "code",
   "execution_count": null,
   "id": "35d6b10f-6613-42ea-a0f8-a5e82d2e71df",
   "metadata": {},
   "outputs": [],
   "source": [
    "import xarray as xr\n",
    "ds = xr.open_dataset(f\"/usr/sci/cedmav/data/firesmoke/BSC00CA12-01/dispersion_20210304.nc\")\n",
    "\n",
    "# Get metadata to compute lon and lat (credit: Aashish Panta)\n",
    "xorig = ds.XORIG\n",
    "yorig = ds.YORIG\n",
    "xcell = ds.XCELL\n",
    "ycell = ds.YCELL\n",
    "ncols = ds.NCOLS\n",
    "nrows = ds.NROWS\n",
    "\n",
    "longitude = np.linspace(xorig, xorig + xcell * (ncols - 1), ncols)\n",
    "latitude = np.linspace(yorig, yorig + ycell * (nrows - 1), nrows)"
   ]
  },
  {
   "cell_type": "markdown",
   "id": "ebe3db04-4720-4e1c-856e-e962d4dda777",
   "metadata": {
    "tags": []
   },
   "source": [
    "## **Step 3:  Data Selection**\n",
    "This section shows you how to load the data you want. You can select any timestep you want. You can set the quality or resolution of the data as well. Higher quality means finer(more) data. \n",
    "\n",
    "Not setting any time means the first timestep available is selected. \n",
    "\n",
    "Not setting quality means full data resolution is selected which takes a while to load because of the higher filesize. "
   ]
  },
  {
   "cell_type": "code",
   "execution_count": null,
   "id": "38ac03df",
   "metadata": {
    "tags": []
   },
   "outputs": [],
   "source": [
    "# here you can select the resoution at which you query the data: -15 is very coarse, 0 is full resoltuon (dangerous since you may fetch a lot of data and wait a long time).\n",
    "data_resolution = 0 # try values among -15, -12, -9, -6, -3, 0\n",
    "data2D=db.read(time=0,quality=data_resolution)\n",
    "print(data2D.shape)\n",
    "print(np.min(data2D),np.max(data2D))"
   ]
  },
  {
   "cell_type": "markdown",
   "id": "db8a4846-f9ad-44a7-a39d-c1e2d28717b9",
   "metadata": {},
   "source": [
    "## **Step 4:  Visualize the data**\n",
    "We are using a simple matplotlib here, but since the data is in numpy array, it can loaded with any python modules that support numpy. Feel free to set the `vmin`,`vmax` appropriately."
   ]
  },
  {
   "cell_type": "code",
   "execution_count": null,
   "id": "c58133a1",
   "metadata": {
    "tags": []
   },
   "outputs": [],
   "source": [
    "timestep = 0  #between 0 and 24817\n",
    "data_resolution = 0 # try values among -15, -12, -9, -6, -3, 0\n",
    "\n",
    "data_at_timestep = db.read(time=timestep, quality=data_resolution)\n",
    "fig,axes=plt.subplots(1,1,figsize=(10,8))\n",
    "axp = axes.imshow(data_at_timestep, extent=[np.min(longitude), np.max(longitude), np.min(latitude), np.max(latitude)], \n",
    "                  aspect='auto',origin='lower',vmin=.00005,vmax=.05,cmap='viridis')\n",
    "plt.colorbar(axp,location='right')\n",
    "\n",
    "# Set x and y axis labels\n",
    "axes.set_xlabel('Longitude')\n",
    "axes.set_ylabel('Latitude')\n",
    "\n",
    "plt.show()"
   ]
  },
  {
   "cell_type": "markdown",
   "id": "5728524e-5397-4bdb-ae04-c5b1e7f2c458",
   "metadata": {},
   "source": [
    "## Perhaps you want to find the first day where the PM25 levels are above healthy standards for human health over 24 hours"
   ]
  },
  {
   "cell_type": "markdown",
   "id": "5265214f-8a70-487c-9379-8e07bfecd82c",
   "metadata": {},
   "source": [
    "ref: https://ww2.arb.ca.gov/resources/inhalable-particulate-matter-and-health"
   ]
  },
  {
   "cell_type": "code",
   "execution_count": null,
   "id": "68a5b44a-f6df-4db4-9e69-6a1e5ccea28e",
   "metadata": {
    "scrolled": true
   },
   "outputs": [],
   "source": [
    "# Select a threshold, 35 µg/m3\n",
    "threshold = 35\n",
    "\n",
    "# # An array to hold the slices of data that meet the threshold\n",
    "# data_of_interest = np.empty([24, data2D.shape[0], data2D.shape[1]])\n",
    "\n",
    "# An array to hold the slices of data that meet the threshold\n",
    "data_of_interest = []\n",
    "\n",
    "# Counter to keep track of consecutive timesteps\n",
    "consecutive_count = 0\n",
    "\n",
    "# To track last timestep of consecutive hours\n",
    "last_tstep = 0\n",
    "\n",
    "# For all timesteps, append\n",
    "for tstep in range(len(db.getTimesteps())):\n",
    "    # Read in PM25 data at current timestep\n",
    "    curr_data=db.read(time=tstep,quality=data_resolution)\n",
    "    # If this slice has at least one PM25 value > our threshold , append to our data_of_interest\n",
    "    if np.max(curr_data) > threshold:\n",
    "        # If any value in the slice exceeds the threshold\n",
    "        if np.max(curr_data) > threshold:\n",
    "            # Increment consecutive count\n",
    "            consecutive_count += 1\n",
    "    \n",
    "            # If we've reached 24 consecutive timesteps, break the loop\n",
    "            if consecutive_count == 24:\n",
    "                last_tstep=tstep\n",
    "                break\n",
    "        else:\n",
    "            # Reset consecutive count if condition is not met\n",
    "            consecutive_count = 0\n",
    "\n",
    "# If 24 consecutive timesteps were found, append them to data_of_interest\n",
    "if consecutive_count == 24:\n",
    "    for tstep in range(last_tstep - 23, last_tstep + 1):\n",
    "        curr_data = db.read(time=tstep, quality=data_resolution)\n",
    "        data_of_interest.append(curr_data)\n",
    "    \n",
    "    # Convert the list of slices to a numpy array\n",
    "    data_of_interest = np.array(data_of_interest)"
   ]
  },
  {
   "cell_type": "markdown",
   "id": "39115227-6a21-4c35-80d7-adff35b2e99f",
   "metadata": {},
   "source": [
    "Let's visualize the first hour of this data"
   ]
  },
  {
   "cell_type": "code",
   "execution_count": null,
   "id": "33b8d443-30e9-497a-acac-036d1ad43ad1",
   "metadata": {},
   "outputs": [],
   "source": [
    "fig,axes=plt.subplots(1,1,figsize=(10,8))\n",
    "axp = axes.imshow(data_of_interest[11], extent=[np.min(longitude), np.max(longitude), np.min(latitude), np.max(latitude)], \n",
    "                  aspect='auto',origin='lower',vmin=threshold,cmap='viridis')\n",
    "plt.colorbar(axp,location='right')\n",
    "\n",
    "# Set x and y axis labels\n",
    "axes.set_xlabel('Longitude')\n",
    "axes.set_ylabel('Latitude')\n",
    "\n",
    "plt.show()"
   ]
  },
  {
   "cell_type": "markdown",
   "id": "d4c13ced-3fc0-406f-8ee4-d8455737e278",
   "metadata": {},
   "source": [
    "### *Please reach out to Arleth Salinas or Valerio Pascucci for any concerns about the notebook. Thank you!*\n",
    "- Arleth Salinas (arleth.salinas@utah.edu\n",
    "- Valerio Pascucci (pascucci.valerio@gmail.com)"
   ]
  }
 ],
 "metadata": {
  "kernelspec": {
   "display_name": "Python 3 (ipykernel)",
   "language": "python",
   "name": "python3"
  },
  "language_info": {
   "codemirror_mode": {
    "name": "ipython",
    "version": 3
   },
   "file_extension": ".py",
   "mimetype": "text/x-python",
   "name": "python",
   "nbconvert_exporter": "python",
   "pygments_lexer": "ipython3",
   "version": "3.9.18"
  }
 },
 "nbformat": 4,
 "nbformat_minor": 5
}
